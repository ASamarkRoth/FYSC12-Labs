{
 "cells": [
  {
   "cell_type": "markdown",
   "metadata": {
    "deletable": true,
    "editable": true
   },
   "source": [
    "# FYSC12: Beta decay and Fermi Kurie plot\n",
    "## Data analysis code and lab notebook\n",
    "\n",
    "### Introduction\n",
    "* This 'Jupyter Notebook' is your manual, data analysis and log book all at the same time. It consists of individual cells of text or Python code and you can edit or add cells to your heart's content.\n",
    "* When using the notebook, there are two modes: *command* and *edit* mode. In command mode, you can add, move, run or delete cells. In edit mode, you modify its content. Use the *Esc* key or click outside the cell to leave edit mode. With *shift* + *return* you can run it directly from edit mode.\n",
    "* When you 'run' a cell it will either be formated or executed depending on whether it is a text cell or a code cell, respectivly. The output will be shown inside the notebook.\n",
    "* It is best to run the notebook piece-by-piece as we are progressing through the lab. If something doesn't work as expected, try 'Kernel->Restart' to get a fresh working environment.\n",
    "* Code cells support typical editing features of an IDE, such as tab-complete. You find more info in the 'Help' menu including all keyboard shortcuts!\n",
    "* **Please note**: The code is not supposed to work out-of-the-box but needs some tweaks from your side to complete all the way through! So if you encounter an error, don't despair, try to fix it and ask for help should you get stuck!"
   ]
  },
  {
   "cell_type": "markdown",
   "metadata": {
    "deletable": true,
    "editable": true
   },
   "source": [
    "### Some basic things on Python:"
   ]
  },
  {
   "cell_type": "code",
   "execution_count": null,
   "metadata": {
    "collapsed": false,
    "deletable": true,
    "editable": true
   },
   "outputs": [],
   "source": [
    "## assign a variable:\n",
    "myvar = 23.5\n",
    "## print a variable to the notebook:\n",
    "print(myvar)\n",
    "## print text + variable:\n",
    "print('this is myvar: {}'.format(myvar))\n",
    "## create an array of three elements:\n",
    "myothervar = [ 2, 5, 9 ]\n",
    "print (\"Array:\")\n",
    "print (myothervar)\n",
    "print (\"First element is:\")\n",
    "print (myothervar[0])\n",
    "## help with any function:\n",
    "help(print)"
   ]
  },
  {
   "cell_type": "markdown",
   "metadata": {
    "deletable": true,
    "editable": true
   },
   "source": [
    "For data storage and analysis, we rely on the *numpy* and *scipy* packages. And to plot things, we use the *matplotlib* library. We need to import both before the first use and initialize the interactive plots inside the notebook:"
   ]
  },
  {
   "cell_type": "code",
   "execution_count": null,
   "metadata": {
    "collapsed": false,
    "deletable": true,
    "editable": true
   },
   "outputs": [],
   "source": [
    "import numpy as np\n",
    "import scipy\n",
    "import matplotlib\n",
    "# choose a backend for web applications; remove for stand-alone applications:\n",
    "matplotlib.use('Agg')\n",
    "import matplotlib.pyplot as plt\n",
    "# enable interactive notebook plots (\n",
    "# alternative: use 'inline' instead of 'notebook' for static images)\n",
    "%matplotlib notebook"
   ]
  },
  {
   "cell_type": "markdown",
   "metadata": {
    "deletable": true,
    "editable": true
   },
   "source": [
    "### Let's take some data!\n",
    "#### describe your experiment and settings here:"
   ]
  },
  {
   "cell_type": "markdown",
   "metadata": {
    "deletable": true,
    "editable": true
   },
   "source": [
    "......."
   ]
  },
  {
   "cell_type": "markdown",
   "metadata": {
    "deletable": true,
    "editable": true
   },
   "source": [
    "**Important**: write down any settings you apply! And take pictures of the setup/sources."
   ]
  },
  {
   "cell_type": "markdown",
   "metadata": {
    "deletable": true,
    "editable": true
   },
   "source": [
    "#### Load the data from the MCA\n",
    "We have a little helper library called MCA.py that we load here. It provides a new class *Spectrum* and a routine to load (ASCII) files from the MCA: *load_spectrum(\"filename\")*"
   ]
  },
  {
   "cell_type": "code",
   "execution_count": null,
   "metadata": {
    "collapsed": false,
    "deletable": true,
    "editable": true
   },
   "outputs": [],
   "source": [
    "import MCA\n",
    "sr90 = MCA.load_spectrum(filename =  'data/mydatafile.Spe')\n",
    "sr90.name = \"Sr-90\""
   ]
  },
  {
   "cell_type": "markdown",
   "metadata": {
    "deletable": true,
    "editable": true
   },
   "source": [
    "Now it's time to plot the data we just measured!\n",
    "Run the cell below to see the result appear inside the notebook:\n",
    "\n",
    "### Plot the first data"
   ]
  },
  {
   "cell_type": "code",
   "execution_count": null,
   "metadata": {
    "collapsed": false,
    "deletable": true,
    "editable": true,
    "scrolled": false
   },
   "outputs": [],
   "source": [
    "fig, axes = plt.subplots() # makes new plot\n",
    "axes.plot(sr90.x, sr90.y, linestyle=\"steps\")\n",
    "\n",
    "## Could be useful to see this in log scale..?\n",
    "#plt.yscale('log')\n",
    "#plt.ylim(ymin=1)"
   ]
  },
  {
   "cell_type": "markdown",
   "metadata": {
    "deletable": true,
    "editable": true
   },
   "source": [
    "The result looks (hopefully) more-or-less identical to what we have seen in the MCA software. Good, let's proceed with the analysis then!\n",
    "\n",
    "**Note**: if you use a pure Python program (not a notebook like we do today) and want to plot with matplotlib, then you need to adjust the indicated lines around the matplotlib import statement add the *plt.show()* command (without arguments) to actually _show_ the plots in a separate window.\n",
    "\n",
    "#### Questions:\n",
    "- what is the Q value (in channels) that you read off the plot above? How confident (in units of channels) are you with that reading?"
   ]
  },
  {
   "cell_type": "markdown",
   "metadata": {
    "deletable": true,
    "editable": true
   },
   "source": [
    "**Answer here**:"
   ]
  },
  {
   "cell_type": "markdown",
   "metadata": {
    "deletable": true,
    "editable": true
   },
   "source": [
    "## Energy calibration of the detector\n",
    "We have two different sources available: **Cs-137** and **Bi-207**\n",
    "\n",
    "Your task:\n",
    "- have your lab supervisor hand you a source and instruct you to place it at the measurement location\n",
    "- take a spectrum\n",
    "- while waiting for the measurement: study the incoming MCA spectrum (alternatively, plot the already recorded data here) or research/calculate the energies of the peaks (see below)\n",
    "\n",
    "When you are ready, plot the new raw data:"
   ]
  },
  {
   "cell_type": "code",
   "execution_count": null,
   "metadata": {
    "collapsed": false,
    "deletable": true,
    "editable": true
   },
   "outputs": [],
   "source": [
    "calsource1 = MCA.load_spectrum(filename = ' ')\n",
    "calsource1.name = \"Bi-207\"\n",
    "\n",
    "fig, axes = plt.subplots() # makes new plot\n",
    "plt.plot(calsource1.x, calsource1.y, linestyle=\"steps\", label = calsource1.name)\n",
    "\n",
    "## Let's make this plot a little nicer!\n",
    "\n",
    "#plt.yscale('log')\n",
    "#plt.xlabel('')\n",
    "#plt.ylabel('')\n",
    "#plt.title('')\n",
    "#plt.legend()\n"
   ]
  },
  {
   "cell_type": "markdown",
   "metadata": {
    "deletable": true,
    "editable": true
   },
   "source": [
    "### Identifying the peaks in the spectrum and their associated energies\n",
    "- research at what intensities and energies the source emitts internal conversion electrons (electron capture process). *Hint:* The *Nudat* database might be useful: http://www.nndc.bnl.gov/nudat2\n",
    "- identify what emissions contribute to the peaks you see in the spectrum\n",
    "- our detector cannot resolve small differences in energy, so the peaks we see might stem from several emissions at different energies; calculate the mean energy taking into account the (relative) intensities"
   ]
  },
  {
   "cell_type": "code",
   "execution_count": null,
   "metadata": {
    "collapsed": false,
    "deletable": true,
    "editable": true
   },
   "outputs": [],
   "source": [
    "calsource1_Epeak = np.array([ 1, 2, 3, 4 ]) # Energies in MeV\n",
    "\n",
    "for peak in calsource1_Epeak:\n",
    "    print (\"E peak: {} MeV\".format(peak))"
   ]
  },
  {
   "cell_type": "markdown",
   "metadata": {
    "deletable": true,
    "editable": true
   },
   "source": [
    "### Determining the IC peak position and width via Gaussian fits\n",
    "\n",
    "- what is the advantage of using Gaussian fits over reading off the value by eye?\n",
    "- *optional*: let's try to fit even the third (and weakest) peak of Bi-207! Make it visible in the data plot and perform a Gaussian fit at the position you identified by eye using *fithelpers.fit_gaussian_at_pos()*."
   ]
  },
  {
   "cell_type": "code",
   "execution_count": null,
   "metadata": {
    "collapsed": false,
    "deletable": true,
    "editable": true
   },
   "outputs": [],
   "source": [
    "import fithelpers\n",
    "gfits = fithelpers.fit_all_gaussians(calsource1.x, calsource1.y)\n",
    "\n",
    "# if the fit did not work, you can add fits at perfomed at specific positions *pos* instead:\n",
    "# gfits.append(fithelpers.fit_gaussian_at_pos(calsource1.x, calsource1.y, pos=....))\n",
    "\n",
    "# now you can access the fitted gaussians and their coefficients:\n",
    "print (\"Received {} Gaussians from fit routine.\".format(len(gfits)))\n",
    "for idx, g in enumerate(gfits):\n",
    "    print(\"Fitted Gaussian #{}: A: {}, mu: {}, sigma: {}\".format(idx, g.A, g.mu, g.sigma))"
   ]
  },
  {
   "cell_type": "markdown",
   "metadata": {},
   "source": [
    "Now let's plot the data and each of the Gaussian fits!"
   ]
  },
  {
   "cell_type": "code",
   "execution_count": null,
   "metadata": {
    "collapsed": false,
    "deletable": true,
    "editable": true
   },
   "outputs": [],
   "source": [
    "## set up a new plot\n",
    "fig, axes = plt.subplots() # makes new plot\n",
    "plt.grid(True)\n",
    "plt.xlabel('channel number')\n",
    "plt.ylabel('counts')\n",
    "plt.title(calsource1.name)\n",
    "\n",
    "## plot the calibration source's data\n",
    "plt.plot(calsource1.x, calsource1.y, linestyle='steps',label=calsource1.name)\n",
    "\n",
    "## loop over all the fit results and enumerate them with an index\n",
    "for idx, g in enumerate(gfits):\n",
    "    ## print a line with the fit result\n",
    "    print(\"Fitted Gaussian #{}: A: {}, mu: {}, sigma: {}\".format(idx, g.A, g.mu, g.sigma))\n",
    "    ## plot this gaussian fit too\n",
    "    plt.plot(calsource1.x, g.value(calsource1.x), \n",
    "             label=\"Gauss fit {}\".format(idx))\n",
    "    ## add a label to the peak position with the fit index\n",
    "    plt.annotate(idx,\n",
    "            xy=(g.mu, g.A), xycoords='data', # where to point to\n",
    "            xytext=(15, 15), textcoords='offset points', # offset\n",
    "            arrowprops=dict(arrowstyle=\"->\")) # arrowstyle\n",
    "    \n",
    "leg = plt.legend() # make legend visible\n"
   ]
  },
  {
   "cell_type": "markdown",
   "metadata": {},
   "source": [
    "### Match the fitted peaks to the correct energies"
   ]
  },
  {
   "cell_type": "code",
   "execution_count": null,
   "metadata": {
    "collapsed": false,
    "deletable": true,
    "editable": true
   },
   "outputs": [],
   "source": [
    "# now put the peak positions into a list to plot it later\n",
    "# HINT: use the coefficients from the fit! E.g. 'gfits[0].mu'\n",
    "calsource1_channel = np.array([ 1, 2, 3 , 4 ])\n",
    "calsource1_sigma   = np.array([ 0.1, 0.2, 0.3, 0.4])\n",
    "\n",
    "# now print the values:\n",
    "print (\"Energies:\")\n",
    "print (calsource1_Epeak)\n",
    "print (\"Channels:\")\n",
    "print (calsource1_channel)\n",
    "print (\"Sigma:\")\n",
    "print (calsource1_sigma)\n",
    "# or a little more fancy:\n",
    "#for idx, p in enumerate(calsource1_channel):\n",
    "#    print (\"Peak #{}: E = {} MeV, channel = {} +/- {}\"\n",
    "#           .format(idx, calsource1_Epeak[idx], p, calsource1_sigma[idx]))"
   ]
  },
  {
   "cell_type": "markdown",
   "metadata": {
    "deletable": true,
    "editable": true
   },
   "source": [
    "### *Optional*: Now repeat the above steps for the 2nd calibration source\n",
    "- start the data taking and study the incoming MCA spectrum \n",
    "- research at what intensities and energies the source emitts internal conversion electrons \n",
    "- identify what emissions contribute to the peaks we see\n",
    "- calculate the mean energy taking into account the (relative) intensities"
   ]
  },
  {
   "cell_type": "code",
   "execution_count": null,
   "metadata": {
    "collapsed": false,
    "deletable": true,
    "editable": true
   },
   "outputs": [],
   "source": [
    "calsource2 = MCA.load_spectrum(filename = '')\n",
    "# only continue if the source was loaded correctly:\n",
    "if calsource2:\n",
    "    calsource2.name = \"Toulouse\"\n",
    "    gfits2 = fithelpers.fit_all_gaussians(calsource2.x, calsource2.y, loglevel=\"WARNING\")\n",
    "    \n",
    "    fig, axes = plt.subplots() # makes new plot\n",
    "    plt.plot(calsource2.x, calsource2.y, linestyle=\"steps\", label = calsource2.name)\n",
    "\n",
    "    for idx, g in enumerate(gfits2):\n",
    "        print(\"Fitted Gaussian #{}: {}\".format(idx, g.as_string()))\n",
    "        plt.plot(calsource2.x, g.value(calsource2.x), \n",
    "                 label=\"Gauss fit {}\".format(idx))\n",
    "        plt.annotate(idx,\n",
    "                xy=(g.mu, g.A), xycoords='data', # where to point to\n",
    "                xytext=(15, 15), textcoords='offset points', # offset\n",
    "                arrowprops=dict(arrowstyle=\"->\")) # arrowstyle\n",
    "    \n",
    "    ## Let's make this plot a little nicer!\n",
    "    plt.xlabel('channel number')\n",
    "    plt.ylabel('counts')\n",
    "    plt.title(calsource2.name)\n",
    "    leg = plt.legend()"
   ]
  },
  {
   "cell_type": "code",
   "execution_count": null,
   "metadata": {
    "collapsed": false,
    "deletable": true,
    "editable": true
   },
   "outputs": [],
   "source": [
    "calsource2_Epeak = np.array([ 1, 2, 3, 4 ]) # Energies in MeV\n",
    "\n",
    "for peak in calsource2_Epeak:\n",
    "    print (\"E peak: {} MeV\".format(peak))"
   ]
  },
  {
   "cell_type": "markdown",
   "metadata": {
    "deletable": true,
    "editable": true
   },
   "source": [
    "Now assemble above results into data structures we can plot later"
   ]
  },
  {
   "cell_type": "code",
   "execution_count": null,
   "metadata": {
    "collapsed": false,
    "deletable": true,
    "editable": true
   },
   "outputs": [],
   "source": [
    "calsource2_channel = np.array([ 1, 2, 3 , 4 ])\n",
    "calsource2_sigma   = np.array([ 0.1, 0.2, 0.3, 0.4])"
   ]
  },
  {
   "cell_type": "markdown",
   "metadata": {
    "deletable": true,
    "editable": true
   },
   "source": [
    "### Plot the energy calibration figure"
   ]
  },
  {
   "cell_type": "code",
   "execution_count": null,
   "metadata": {
    "collapsed": false,
    "deletable": true,
    "editable": true,
    "scrolled": false
   },
   "outputs": [],
   "source": [
    "fig, axes = plt.subplots() # makes new plot\n",
    "plt.grid(True)\n",
    "plt.xlabel('channel number')\n",
    "plt.ylabel('energy [MeV]')\n",
    "plt.title(\"Energy Calibration\")\n",
    "## PLOT the energy calibration data including uncertainties\n",
    "plt.errorbar(x=calsource1_channel, \n",
    "             y=calsource1_Epeak, \n",
    "             xerr=calsource1_sigma, \n",
    "             marker='o',\n",
    "             label=calsource1.name)\n",
    "\n",
    "## might want to COMBINE data arrays from different calibration sources for the fit:\n",
    "## use\n",
    "## new_list = list1 + list2\n",
    "## to do so. Then change the data set in the fit command.\n",
    "\n",
    "## linear regression of the data\n",
    "## http://docs.scipy.org/doc/scipy/reference/generated/scipy.stats.linregress.html\n",
    "## or \"help(scipy.stats.linregress)\"\n",
    "slope = .1\n",
    "intercept = 0.\n",
    "# .... something is missing here....\n",
    "\n",
    "## ADVANCED METHOD TO FIT:\n",
    "## use \"curve_fit\" which allows to take uncertainties into account!\n",
    "## http://docs.scipy.org/doc/scipy/reference/generated/scipy.optimize.curve_fit.html\n",
    "## or \"help(scipy.optimize.curve_fit)\"\n",
    "\n",
    "print(\"Determined calibration \\\n",
    "from linear regression: E [MeV] \\\n",
    "= {}*N_ch + {}\".format(slope, intercept))\n",
    "\n",
    "x = np.arange(1,512)\n",
    "plt.plot(x,slope*x+intercept,label=\"linear regression\")\n",
    "plt.legend()\n",
    "\n",
    "## apply energy calibration\n",
    "print(\"Reloading {} spectrum\".format(sr90.name))\n",
    "sr90 = MCA.load_spectrum(filename =  sr90.filename)\n",
    "print(\"Applying calibration constants\")\n",
    "sr90.x = sr90.x*slope + intercept\n",
    "\n",
    "fig, axes = plt.subplots() # makes new plot\n",
    "plt.grid(True)\n",
    "plt.ylabel('counts')\n",
    "plt.xlabel('energy [MeV]')\n",
    "plt.title(\"Sr-90 spectrum\")\n",
    "plt.plot(sr90.x,sr90.y,label=sr90.name)\n"
   ]
  },
  {
   "cell_type": "markdown",
   "metadata": {
    "deletable": true,
    "editable": true
   },
   "source": [
    "### Energy calibration, optional steps:\n",
    "- can you demonstrate that the peaks we have identified in fact stem from electrons? How?\n",
    "- improve the calibration by taking into account all IC emissions from Bi-207 and Cs-137\n",
    "- improve the fit by taking into account uncertainties!\n",
    "- how can you evaluate the quality of the fit? Look into the documentation (or code) of the routine and interpret what information it returns!"
   ]
  },
  {
   "cell_type": "markdown",
   "metadata": {
    "deletable": true,
    "editable": true
   },
   "source": [
    "## Fermi-Kurie Plot\n",
    "Let's calculate $Q-T_e$ and look at the resulting distribution!\n",
    "\n",
    "*You are lucky, all the formulars have already been typed in -- and look how easy Python (with numpy) makes the calculations!*"
   ]
  },
  {
   "cell_type": "code",
   "execution_count": null,
   "metadata": {
    "collapsed": false,
    "deletable": true,
    "editable": true
   },
   "outputs": [],
   "source": [
    "## fermi-kurie calculations:\n",
    "mec2 = 0.510998910 ## e mass in MeV\n",
    "pc = np.sqrt((sr90.x + mec2)**2 - mec2**2)\n",
    "A = pc/mec2\n",
    "f = 1.3604*A*A + 0.1973*A + 0.0439\n",
    "Ee = (sr90.x + mec2)\n",
    "QminTe = np.sqrt((sr90.y*pc)/(Ee*f))\n",
    "\n",
    "## not plot the calculated data\n",
    "fig, axes = plt.subplots() # makes new plot\n",
    "plt.grid(True)\n",
    "plt.xlabel('Te [MeV]')\n",
    "plt.ylabel('Q-Te')\n",
    "plt.title(\"{} Fermi-Kurie\".format(sr90.name))\n",
    "plt.plot(sr90.x, QminTe, label=\"data\", linestyle=\"steps\")\n",
    "    \n",
    "## linear regression of the F-K plot see\n",
    "## http://docs.scipy.org/doc/scipy-0.16.1/reference/generated/scipy.stats.linregress.html\n",
    "## the fit does not really work on the edges of the F-K plot, so we\n",
    "## take the linear region of lower_limit<E [MeV]<upper_limit (to\n",
    "## be determined from the plot)\n",
    "lower_limit, upper_limit = 1,11 ## initialize\n",
    "try:\n",
    "    ## search for the bins that match our criteria\n",
    "    ## first elements ([0][0]) indicate first bin matching our criteria\n",
    "    lower_limit = np.where(sr90.x>0.1)[0][0]\n",
    "    upper_limit = np.where(sr90.x>0.5)[0][0]\n",
    "except IndexError:\n",
    "    print(\"Could not find any bins to fit! Please check the limit settings!\")\n",
    "\n",
    "slope, intercept, r_value, p_value, std_err = scipy.stats.linregress(\n",
    "    sr90.x[lower_limit:upper_limit], QminTe[lower_limit:upper_limit])\n",
    "\n",
    "x = np.arange(0,2.5,0.05) ## generate x axis for fit result (start, stop, stepsize)\n",
    "plt.plot(x,slope*x+intercept,label=\"linear regression\")\n",
    "\n",
    "## now the Q value is determined by where the linear regression \n",
    "## intersects with the x axis (Q-Te = 0)\n",
    "Q = -intercept/slope\n",
    "\n",
    "## print results\n",
    "print(\"Determined linear regression to Fermi-Kurie plot: Q-Te = \" \n",
    "          + str(slope)+\"*Te + \" + str(intercept))\n",
    "print(\"===> Q value: Q = \"+str(Q)+\" MeV \")\n",
    "## label plot with Q value\n",
    "plt.annotate(r'$Q_{Y-90}$ = '+\"{:.3f}\".format(Q)+' MeV', # text to put there\n",
    "            xy=(Q, 0),                         # where to point to\n",
    "            xytext=(0., 60),                   # offset for text\n",
    "            textcoords='offset points',\n",
    "            arrowprops=dict(arrowstyle=\"->\", color = 'red'))\n"
   ]
  },
  {
   "cell_type": "markdown",
   "metadata": {
    "collapsed": true,
    "deletable": true,
    "editable": true
   },
   "source": [
    "### Discussion of the result: estimating the systematic uncertainty\n",
    "**Question**: what is the Q value you get from the F-K plot?\n",
    "\n",
    "*Answer*:\n",
    "\n",
    "**Question**: how does the Q value change if you adjust the fitting range?\n",
    "\n",
    "*Answer*:\n",
    "\n",
    "**Question**: how does the Q value change if you modify the energy calibration (e.g. by adding 1 $\\sigma$ to the channel value)?\n",
    "\n",
    "*Answer*:"
   ]
  },
  {
   "cell_type": "code",
   "execution_count": null,
   "metadata": {
    "collapsed": true
   },
   "outputs": [],
   "source": []
  }
 ],
 "metadata": {
  "kernelspec": {
   "display_name": "Python 3",
   "language": "python",
   "name": "python3"
  },
  "language_info": {
   "codemirror_mode": {
    "name": "ipython",
    "version": 3
   },
   "file_extension": ".py",
   "mimetype": "text/x-python",
   "name": "python",
   "nbconvert_exporter": "python",
   "pygments_lexer": "ipython3",
   "version": "3.6.0"
  }
 },
 "nbformat": 4,
 "nbformat_minor": 0
}
