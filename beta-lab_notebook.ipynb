{
 "cells": [
  {
   "cell_type": "markdown",
   "metadata": {},
   "source": [
    "# FYSC12: Beta decay and Fermi Kurie plot\n",
    "## Data analysis code and lab notebook\n",
    "\n",
    "### Welcome to your Jupyter Notebook for the FYSC12 beta lab!\n",
    "In here, you will find all the code needed to measure the $Q$ value of the beta decay of $^{90}$Sr from the data taken during the lab.\n",
    "\n",
    "Please treat this as your \"lab notebook\": by keeping notes on experimental settings etc inside this page, you should have a complete document on *your* experiment by the end of the day."
   ]
  },
  {
   "cell_type": "markdown",
   "metadata": {},
   "source": [
    "## Warm-up Questions\n",
    "*These questions need to be answered _before_ coming to the lab*"
   ]
  },
  {
   "cell_type": "markdown",
   "metadata": {},
   "source": [
    "* How does the electron energy spectrum look like for a $\\beta^-$ decay?\n",
    "  Why?"
   ]
  },
  {
   "cell_type": "markdown",
   "metadata": {},
   "source": [
    "_Answer_:"
   ]
  },
  {
   "cell_type": "markdown",
   "metadata": {},
   "source": [
    "* What is the Fermi-Kurie plot and how does it relate to the $Q$ value of\n",
    "  the process?"
   ]
  },
  {
   "cell_type": "markdown",
   "metadata": {},
   "source": [
    "_Answer_:"
   ]
  },
  {
   "cell_type": "markdown",
   "metadata": {},
   "source": [
    "* Why is $^{90}Sr$ a suitable sample to use in this laboratory exercise?\n",
    "  What might be a challenge using this isotope?"
   ]
  },
  {
   "cell_type": "markdown",
   "metadata": {},
   "source": [
    "_Answer_:"
   ]
  },
  {
   "cell_type": "markdown",
   "metadata": {},
   "source": [
    "* Calculate the Q-value for the process $^{90}Sr\\rightarrow ^{90}Y + e^- +\n",
    "  \\bar{\\nu}$. Hint: Some terms in the equation can be neglected, why? "
   ]
  },
  {
   "cell_type": "markdown",
   "metadata": {},
   "source": [
    "_Answer_:"
   ]
  },
  {
   "cell_type": "markdown",
   "metadata": {},
   "source": [
    "* By what mechanisms does a photon/charged particle lose energy\n",
    "  when traversing material?"
   ]
  },
  {
   "cell_type": "markdown",
   "metadata": {},
   "source": [
    "_Answer_:"
   ]
  },
  {
   "cell_type": "markdown",
   "metadata": {},
   "source": [
    "* Why is plastic a good material for a scintillator? What\n",
    "  properties can you think of that might be important to consider?"
   ]
  },
  {
   "cell_type": "markdown",
   "metadata": {},
   "source": [
    "_Answer_:"
   ]
  },
  {
   "cell_type": "markdown",
   "metadata": {},
   "source": [
    "* What is the function of the photomultiplier tube? What properties are important?"
   ]
  },
  {
   "cell_type": "markdown",
   "metadata": {},
   "source": [
    "_Answer_:"
   ]
  },
  {
   "cell_type": "markdown",
   "metadata": {},
   "source": [
    "### Some basic things on Python:"
   ]
  },
  {
   "cell_type": "code",
   "execution_count": null,
   "metadata": {},
   "outputs": [],
   "source": [
    "## assign a variable:\n",
    "myvar = 23.5\n",
    "\n",
    "## print a variable to the notebook:\n",
    "print(myvar)\n",
    "\n",
    "## print text + variable:\n",
    "print('this is myvar: {}'.format(myvar))\n",
    "\n",
    "## help with any function:\n",
    "help(print)\n"
   ]
  },
  {
   "cell_type": "markdown",
   "metadata": {},
   "source": [
    "For data storage and analysis, we rely on the *numpy* and *scipy* packages. And to plot things, we use the *matplotlib* library. We need to import both before the first use and initialize the interactive plots inside the notebook:"
   ]
  },
  {
   "cell_type": "code",
   "execution_count": null,
   "metadata": {},
   "outputs": [],
   "source": [
    "import numpy as np\n",
    "import scipy\n",
    "import matplotlib\n",
    "# choose a backend for web applications; remove for stand-alone applications:\n",
    "matplotlib.use('Agg')\n",
    "import matplotlib.pyplot as plt\n",
    "# enable interactive notebook plots (\n",
    "# alternative: use 'inline' instead of 'notebook' for static images)\n",
    "%matplotlib notebook"
   ]
  },
  {
   "cell_type": "markdown",
   "metadata": {},
   "source": [
    "### Let's take some data!\n",
    "#### describe your experiment and settings here:"
   ]
  },
  {
   "cell_type": "markdown",
   "metadata": {},
   "source": [
    "......."
   ]
  },
  {
   "cell_type": "markdown",
   "metadata": {},
   "source": [
    "**Important**: write down any settings you apply! And take pictures of the setup/sources."
   ]
  },
  {
   "cell_type": "markdown",
   "metadata": {},
   "source": [
    "#### Load the data from the MCA\n",
    "We have a little helper library called MCA.py that we load here. It provides a new class *Spectrum* and a routine to load (ASCII) files from the MCA: *load_spectrum(\"filename\")*"
   ]
  },
  {
   "cell_type": "code",
   "execution_count": null,
   "metadata": {},
   "outputs": [],
   "source": [
    "import MCA\n",
    "sr90 = MCA.load_spectrum(filename =  'some/path/here/myfile.Spe')\n",
    "sr90.name = \"Sr-90\""
   ]
  },
  {
   "cell_type": "markdown",
   "metadata": {},
   "source": [
    "Now it's time to plot the data we just measured!\n",
    "Run the cell below to see the result appear inside the notebook:\n",
    "\n",
    "### Plot the first data"
   ]
  },
  {
   "cell_type": "code",
   "execution_count": null,
   "metadata": {
    "scrolled": false
   },
   "outputs": [],
   "source": [
    "fig, axes = plt.subplots() # makes new plot\n",
    "axes.plot(sr90.x, sr90.y, linestyle=\"steps\")\n",
    "\n",
    "## Could be useful to see this in log scale..?\n",
    "#plt.yscale('log')"
   ]
  },
  {
   "cell_type": "markdown",
   "metadata": {},
   "source": [
    "The result looks (hopefully) more-or-less identical to what we have seen in the MCA software. Good, let's proceed with the analysis then!\n",
    "\n",
    "**Note**: if you use a pure Python program (not a notebook like we do today) and want to plot with matplotlib, then you need to adjust the indicated lines around the matplotlib import statement add the *plt.show()* command (without arguments) to actually _show_ the plots in a separate window.\n",
    "\n",
    "#### Questions:\n",
    "- what is the Q value (in channels) that you read off the plot above? How confident (in units of channels) are you with that reading?"
   ]
  },
  {
   "cell_type": "markdown",
   "metadata": {},
   "source": [
    "**Answer here**:"
   ]
  },
  {
   "cell_type": "markdown",
   "metadata": {},
   "source": [
    "## Energy calibration of the detector\n",
    "We have two different sources available: Cs-137 and Bi-207\n",
    "\n",
    "Your task:\n",
    "- have your lab supervisor hand you a source and instruct you to place it at the measurement location\n",
    "- take a spectrum\n",
    "- while waiting for the measurement: study the incoming MCA spectrum (alternatively, plot the already recorded data here)\n",
    "- research at what intensities and energies the source emitts internal conversion electrons (electron capture process). *Hint:* The Nudat database might be useful: http://www.nndc.bnl.gov/nudat2\n",
    "- identify what emissions contribute to the peaks you see in the spectrum\n",
    "- our detector cannot resolve small differences in energy, so the peaks we see might stem from several emissions at different energies; calculate the mean energy taking into account the (relative) intensities\n",
    "\n",
    "When you are ready, plot the new raw data:"
   ]
  },
  {
   "cell_type": "code",
   "execution_count": null,
   "metadata": {},
   "outputs": [],
   "source": [
    "calsource1 = MCA.load_spectrum(filename = 'some_file.mca') # TODO: put right file\n",
    "calsource1.name = \"Put isotope name here\" # TODO: put correct name \n",
    "\n",
    "fig, axes = plt.subplots() # makes new plot\n",
    "plt.plot(calsource1.x, calsource1.y, linestyle=\"steps\", label = calsource1.name)\n",
    "\n",
    "## Let's make this plot a little nicer!\n",
    "\n",
    "plt.xlabel('channel number')\n",
    "plt.ylabel('counts')\n",
    "plt.title(calsource1.name)\n",
    "plt.legend()\n"
   ]
  },
  {
   "cell_type": "markdown",
   "metadata": {},
   "source": [
    "### Determining the IC peak position: to fit or not to fit!\n",
    "\n",
    "- what is the advantage of using Gaussian fits over reading off the value by eye?"
   ]
  },
  {
   "cell_type": "code",
   "execution_count": null,
   "metadata": {},
   "outputs": [],
   "source": [
    "## for fitting: define helper routines\n",
    "def gaussfcn(x, *p):\n",
    "    \"\"\" gauss function to be used for fits to the data\"\"\"\n",
    "    A, mu, sigma = p\n",
    "    return A*np.exp(-(x-mu)**2/(2.*sigma**2))\n",
    "\n",
    "class Gauss:\n",
    "    \"\"\"A class to hold coefficients for Gaussian distributions\"\"\"\n",
    "    def __init__(self, A, mu, sigma):\n",
    "        self.A = A\n",
    "        self.mu = mu\n",
    "        self.sigma = sigma\n",
    "    def value(self, x):\n",
    "        return gaussfcn(x, self.A, self.mu, self.sigma)\n",
    "    def as_string(self, ndigits=4):\n",
    "        return str(\"A: {}, mu: {}, sigma: {}\".format(round(self.A, ndigits),\n",
    "                                                     round(self.mu, ndigits),\n",
    "                                                     round(self.sigma, ndigits)))"
   ]
  },
  {
   "cell_type": "code",
   "execution_count": null,
   "metadata": {},
   "outputs": [],
   "source": [
    "## set up a new plot\n",
    "fig, axes = plt.subplots() # makes new plot\n",
    "plt.grid(True)\n",
    "plt.xlabel('channel number')\n",
    "plt.ylabel('counts')\n",
    "plt.title(calsource1.name)\n",
    "\n",
    "## plot the data\n",
    "plt.plot(calsource1.x, calsource1.y, linestyle='steps',label=calsource1.name)\n",
    "    \n",
    "plt.legend() # make legend visible\n"
   ]
  },
  {
   "cell_type": "code",
   "execution_count": null,
   "metadata": {},
   "outputs": [],
   "source": [
    "## use the scipy curve_fit routine (uses non-linear least squares to perform the fit)\n",
    "## see documentation under:\n",
    "## http://docs.scipy.org/doc/scipy/reference/generated/scipy.optimize.curve_fit.html\n",
    "## or \"help(scipy.optimize.curve_fit)\"\n",
    "\n",
    "coeff, var_matrix = scipy.optimize.curve_fit(gaussfcn, \n",
    "                                             calsource1.x,\n",
    "                                             calsource1.y,\n",
    "                                             p0=[100.0, 200., 1.])\n",
    "\n",
    "## create a Gauss object with the fitted coefficients for better code readability\n",
    "g = Gauss(*coeff)\n",
    "\n",
    "print(\"Fit result: {}\".format(g.as_string()))\n",
    "\n",
    "## plot the result\n",
    "axes.plot(calsource1.x, g.value(calsource1.x), \n",
    "          label = r'Gaussian fit, $\\mu={}$, $\\sigma={}$'.format(round(g.mu),round(g.sigma)))\n"
   ]
  },
  {
   "cell_type": "markdown",
   "metadata": {},
   "source": [
    "### Identify the peak in the spectrum and associate an emission energy with it"
   ]
  },
  {
   "cell_type": "markdown",
   "metadata": {},
   "source": [
    "Now that the peaks from the internal conversion process(es) are properly determined, we need to know what beta emission energies these correspond to and plot the relationship (later). Start by researching the energy in the Nudat database: http://www.nndc.bnl.gov/nudat2\n",
    "\n",
    "Now assemble the information into data structures we can plot later: arrays to hold *mean* energy of the emitted electrons, peak's channel number and sigma value of the corresponding Gaussian fit:"
   ]
  },
  {
   "cell_type": "code",
   "execution_count": null,
   "metadata": {},
   "outputs": [],
   "source": [
    "## energies of the internal conversion process(es)\n",
    "calsource1_E = []\n",
    "calsource1_E.append(123) # TODO: put in right energy in [MeV]!\n",
    "for idx, E in enumerate(calsource1_E):\n",
    "    print (\"Mean E peak #{}: {} MeV\".format(idx,E))"
   ]
  },
  {
   "cell_type": "code",
   "execution_count": null,
   "metadata": {},
   "outputs": [],
   "source": [
    "## TODO: make sure that we use the right information here!\n",
    "calsource1_channel = [ g.mu ]\n",
    "calsource1_sigma   = [ g.sigma ]\n"
   ]
  },
  {
   "cell_type": "markdown",
   "metadata": {},
   "source": [
    "### Now repeat the above steps for the 2nd calibration source\n",
    "- start the data taking and study the incoming MCA spectrum \n",
    "- research at what intensities and energies the source emitts internal conversion electrons \n",
    "- identify what emissions contribute to the peaks we see\n",
    "- calculate the mean energy taking into account the (relative) intensities"
   ]
  },
  {
   "cell_type": "code",
   "execution_count": null,
   "metadata": {},
   "outputs": [],
   "source": [
    "calsource2 = MCA.load_spectrum(filename = 'file_name_here.mca') # TODO: add file!\n",
    "\n",
    "if calsource2:\n",
    "    calsource2.name = \"other isotope name\" # TODO: add isotope's name here!\n",
    "    fig, axes = plt.subplots() # makes new plot\n",
    "    plt.plot(calsource2.x, calsource2.y, linestyle=\"steps\", label = calsource2.name)\n",
    "    \n",
    "    ## Let's make this plot a little nicer!\n",
    "    plt.xlabel('channel number')\n",
    "    plt.ylabel('counts')\n",
    "    plt.yscale('log')\n",
    "    plt.ylim(ymin=1)\n",
    "    plt.title(calsource2.name)\n",
    "    plt.legend()"
   ]
  },
  {
   "cell_type": "code",
   "execution_count": null,
   "metadata": {},
   "outputs": [],
   "source": [
    "## TODO: fit the peaks from IC electrons!\n",
    "\n",
    "## change parameters here\n",
    "npoints = 100 # number of points to include\n",
    "pos = 100.00  # position to fit\n",
    "\n",
    "# find the index of the x value closest to the position to be fitted\n",
    "idx = np.searchsorted(calsource2.x, pos)\n",
    "\n",
    "## p0 is the initial guess for the fitting coefficients (A, mu and sigma above)\n",
    "p0 = [calsource2.y[idx], pos, 1.]\n",
    "\n",
    "## use the scipy curve_fit routine (uses non-linear least squares to perform the fit)\n",
    "## see documentation under:\n",
    "## http://docs.scipy.org/doc/scipy/reference/generated/scipy.optimize.curve_fit.html\n",
    "## or \"help(scipy.optimize.curve_fit)\"\n",
    "## fit using \"slices\" of the arrays with +/- npoints around the idx position\n",
    "coeff, var_matrix = scipy.optimize.curve_fit(gaussfcn,\n",
    "                                calsource2.x[idx-npoints:idx+npoints],\n",
    "                                calsource2.y[idx-npoints:idx+npoints],\n",
    "                                p0=p0)\n",
    "## create a Gauss object with the fitted coefficients for better code readability\n",
    "g = Gauss(*coeff)\n",
    "\n",
    "## compute one standard deviation errors on the parameters from the covariance matrix\n",
    "perr = np.sqrt(np.diag(var_matrix))\n",
    "\n",
    "print(\"Fit result: \"+g.as_string())\n",
    "print(\"Fit uncertainties (one std deviation errors) [%]: {}\".format(100*perr/coeff))\n",
    "\n",
    "## plot the gaussian fit\n",
    "axes.plot(calsource2.x, g.value(calsource2.x), \n",
    "              label = r'Gaussian fit, $\\mu={}$, $\\sigma={}$'.format(round(g.mu),round(g.sigma)))\n"
   ]
  },
  {
   "cell_type": "markdown",
   "metadata": {},
   "source": [
    "#### Now assemble above results into data structures we can plot later"
   ]
  },
  {
   "cell_type": "code",
   "execution_count": null,
   "metadata": {},
   "outputs": [],
   "source": [
    "calsource2_E = []\n",
    "calsource2_E.append(123)\n",
    "for idx, E in enumerate(calsource2_E):\n",
    "    print (\"Mean E peak #{}\".format(idx) + \": {} MeV\".format(E))\n"
   ]
  },
  {
   "cell_type": "code",
   "execution_count": null,
   "metadata": {},
   "outputs": [],
   "source": [
    "## TODO: fill information from fits in here!\n",
    "calsource2_channel = [  ]\n",
    "calsource2_sigma   = [  ]"
   ]
  },
  {
   "cell_type": "markdown",
   "metadata": {},
   "source": [
    "### Plot the energy calibration figure"
   ]
  },
  {
   "cell_type": "code",
   "execution_count": null,
   "metadata": {
    "scrolled": false
   },
   "outputs": [],
   "source": [
    "fig, axes = plt.subplots() # makes new plot\n",
    "plt.grid(True)\n",
    "plt.xlabel('channel number')\n",
    "plt.ylabel('energy [MeV]')\n",
    "plt.title(\"Energy Calibration\")\n",
    "## PLOT the energy calibration data including uncertainties\n",
    "plt.errorbar(x=calsource1_channel, \n",
    "             y=calsource1_E, \n",
    "             xerr=calsource1_sigma, \n",
    "             marker='o',\n",
    "             label=calsource1.name)\n",
    "\n",
    "# if we have two calibration sources, plot the second one here:\n",
    "if calsource2:\n",
    "    plt.errorbar(x=calsource2_channel, \n",
    "                 y=calsource2_E, \n",
    "                 xerr=calsource2_sigma, \n",
    "                 marker='o',\n",
    "                 label=calsource2.name)\n",
    "\n",
    "## might want to COMBINE data arrays from different calibration sources for the fit:\n",
    "## use\n",
    "## new_list = list1 + list2\n",
    "## to do so. Then change the data set in the fit command.\n",
    "\n",
    "## linear regression of the data\n",
    "## http://docs.scipy.org/doc/scipy/reference/generated/scipy.stats.linregress.html\n",
    "## or \"help(scipy.stats.linregress)\"\n",
    "slope = 1.\n",
    "intercept = 0.\n",
    "# .... something is missing here....\n",
    "\n",
    "## ADVANCED METHOD TO FIT:\n",
    "## use \"curve_fit\" which allows to take uncertainties into account!\n",
    "## http://docs.scipy.org/doc/scipy/reference/generated/scipy.optimize.curve_fit.html\n",
    "## or \"help(scipy.optimize.curve_fit)\"\n",
    "\n",
    "## HINT 1: curve_fit assumes sigma is on the y values -- need to \"invert\" fit\n",
    "## HINT 2: need to calculate the error on the parameters from the covariance matrix\n",
    "\n",
    "print(\"Determined calibration constants from linear regression: E [MeV] = \"+str(slope)+\"*N_ch + \" + str(intercept))\n",
    "x = np.arange(1,512)\n",
    "plt.plot(x,slope*x+intercept,label=\"linear regression\")\n",
    "plt.legend()\n",
    "\n",
    "## apply energy calibration\n",
    "print(\"Reloading {} spectrum\".format(sr90.name))\n",
    "sr90 = MCA.load_spectrum(filename =  sr90.filename)\n",
    "print(\"Applying calibration constants\")\n",
    "sr90.calibrate(slope,intercept)\n",
    "\n",
    "fig, axes = plt.subplots() # makes new plot\n",
    "plt.grid(True)\n",
    "plt.ylabel('counts')\n",
    "plt.xlabel('energy [MeV]')\n",
    "plt.title(\"Sr-90 spectrum\")\n",
    "plt.yscale('log')\n",
    "plt.plot(sr90.x,sr90.y,label=\"Sr-90\")\n"
   ]
  },
  {
   "cell_type": "markdown",
   "metadata": {},
   "source": [
    "### Energy calibration, optional steps:\n",
    "- can you demonstrate that the peaks we have identified in fact stem from electrons? How?\n",
    "- improve the calibration by taking into account all IC emissions from Bi-207 and Cs-137\n",
    "- improve the fit by taking into account uncertainties!\n",
    "- how can you evaluate the quality of the fit? Look into the documentation (or code) of the routine and interpret what information it returns!"
   ]
  },
  {
   "cell_type": "markdown",
   "metadata": {},
   "source": [
    "## Fermi-Kurie Plot\n",
    "Let's calculate $Q-T_e$ and look at the resulting distribution!\n",
    "\n",
    "*You are lucky, all the formulars have already been typed in -- and look how easy Python makes the calculations!*"
   ]
  },
  {
   "cell_type": "code",
   "execution_count": null,
   "metadata": {},
   "outputs": [],
   "source": [
    "## fermi-kurie calculations:\n",
    "mec2 = 0.510998910 ## e mass in MeV\n",
    "pc = np.sqrt((sr90.x + mec2)**2 - mec2**2)\n",
    "A = pc/mec2\n",
    "f = 1.3604*A*A + 0.1973*A + 0.0439\n",
    "Ee = (sr90.x + mec2)\n",
    "QminTe = np.sqrt((sr90.y*pc)/(Ee*f))\n",
    "\n",
    "## not plot the calculated data\n",
    "fig, axes = plt.subplots() # makes new plot\n",
    "plt.grid(True)\n",
    "plt.xlabel('Te [MeV]')\n",
    "plt.ylabel('Q-Te')\n",
    "plt.title(\"{} Fermi-Kurie\".format(sr90.name))\n",
    "plt.plot(sr90.x, QminTe, label=\"data\", linestyle=\"steps\")\n",
    "    \n",
    "## linear regression of the F-K plot see\n",
    "## http://docs.scipy.org/doc/scipy-0.16.1/reference/generated/scipy.stats.linregress.html\n",
    "## the fit does not really work on the edges of the F-K plot, so we\n",
    "## take the linear region of lower_limit<E [MeV]<upper_limit (to\n",
    "## be determined from the plot)\n",
    "lower_limit, upper_limit = 1,11 ## initialize\n",
    "try:\n",
    "    ## search for the bins that match our criteria\n",
    "    ## first elements ([0][0]) indicate first bin matching our criteria\n",
    "    lower_limit = np.where(sr90.x>0.5)[0][0]\n",
    "    upper_limit = np.where(sr90.x>2.)[0][0]\n",
    "except IndexError:\n",
    "    print(\"Could not find any bins to fit! Please check the limit settings!\")\n",
    "\n",
    "slope, intercept, r_value, p_value, std_err = scipy.stats.linregress(\n",
    "    sr90.x[lower_limit:upper_limit], QminTe[lower_limit:upper_limit])\n",
    "\n",
    "x = np.arange(0,2.5,0.05) ## generate x axis for fit result (start, stop, stepsize)\n",
    "plt.plot(x,slope*x+intercept,label=\"linear regression\")\n",
    "\n",
    "## now the Q value is determined by where the linear regression \n",
    "## intersects with the x axis (Q-Te = 0)\n",
    "Q = -intercept/slope\n",
    "\n",
    "## print results\n",
    "print(\"Determined linear regression to Fermi-Kurie plot: Q-Te = \" \n",
    "          + str(slope)+\"*Te + \" + str(intercept))\n",
    "print(\"===> Q value: Q = \"+str(Q)+\" MeV \")\n",
    "## label plot with Q value\n",
    "plt.annotate(r'$Q_{Y-90}$ = '+\"{:.3f}\".format(Q)+' MeV', # text to put there\n",
    "            xy=(Q, 0),                         # where to point to\n",
    "            xytext=(0., 60),                   # offset for text\n",
    "            textcoords='offset points',\n",
    "            arrowprops=dict(arrowstyle=\"->\", color = 'red'))\n",
    "\n",
    "plt.legend()"
   ]
  },
  {
   "cell_type": "markdown",
   "metadata": {},
   "source": [
    "# Discussion\n",
    "\n",
    "At the end of the lab, it is time to present your findings and results to your colleagues! Export any plots or pictures you want to show and explain what you have learned."
   ]
  },
  {
   "cell_type": "markdown",
   "metadata": {
    "collapsed": true
   },
   "source": [
    "# Conclusions\n",
    "\n",
    "The following questions should be discussed and answered during the final discussion round:\n",
    "* What have we learned more since the measurements this morning?\n",
    "* Were any of the results particularly surprising for you?\n",
    "* Are we now ready to publish the results? What would we have to\n",
    "  do further?\n",
    "* What are the dominant uncertainties you are aware of? What causes them?\n",
    "* With all we know now, what would you do to improve the\n",
    "  experiment? How would you remove limiting factors in particular to its precision?"
   ]
  }
 ],
 "metadata": {
  "kernelspec": {
   "display_name": "Python 3",
   "language": "python",
   "name": "python3"
  },
  "language_info": {
   "codemirror_mode": {
    "name": "ipython",
    "version": 3
   },
   "file_extension": ".py",
   "mimetype": "text/x-python",
   "name": "python",
   "nbconvert_exporter": "python",
   "pygments_lexer": "ipython3",
   "version": "3.6.4"
  }
 },
 "nbformat": 4,
 "nbformat_minor": 1
}
