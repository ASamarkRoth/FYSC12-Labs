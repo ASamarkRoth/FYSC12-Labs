{
 "cells": [
  {
   "cell_type": "markdown",
   "metadata": {},
   "source": [
    "# TODO : remove all 'TODO's !"
   ]
  },
  {
   "cell_type": "markdown",
   "metadata": {},
   "source": [
    "# TODO : clearly indicate which cells are demos and which require interaction\n",
    "- try to use 'tags' to do this; are they visible when opening the notebook for the first time?"
   ]
  },
  {
   "cell_type": "markdown",
   "metadata": {},
   "source": [
    "# Data analysis - Introduction to Jupyter Notebooks for Nuclear Physics Laboratories\n",
    "\n",
    "## Table of Content\n",
    "\n",
    "* [About this Notebook](#about)\n",
    "\n",
    "\n",
    "* [Importing python packages](#import)\n",
    "\n",
    "\n",
    "* [Read experimental data from file](#read)\n",
    "    * [Loading spectrum](#load)\n",
    "    * [Plotting the data](#plot)\n",
    "\n",
    "\n",
    "* [Analyzing the data](#fit)\n",
    "    * [Fitting a Gaussian](#gaussian)\n",
    "        * [Calculate Peak Area](#peak_area)\n",
    "        * [Analysis code](#code_gaussian)\n",
    "        * [Gaussian widget](#widget_gaussian)\n",
    "    * [Fitting a Gaussian with linear background](#background)\n",
    "        * [Analysis code](#code_background)\n",
    "        * [Background widget](#widget_background)\n",
    "    * [Fit a line - Energy calibration](#line)\n",
    "    * [Statistical analysis - Error propagation](#stat)\n",
    "\n",
    "## About this Notebook <a name=\"about\"></a>\n",
    "\n",
    "The purpose of this _jupyter_ notebook is to introduce data analysis in the\n",
    "frame of gamma spectroscopy. The example programming language is _Python3_ , but\n",
    "of course most coding languages can do the job properly. If you have never\n",
    "programmed before there are so many great tutorials available across the web.\n",
    "There even exist plenty _Open Online Courses_ , e.g.\n",
    "https://www.coursera.org/learn/python. Please have a look around for the one\n",
    "that you like the best. However, note that you do not need to be a\n",
    "Python programmer to pass the lab: what you find in this notebook is enough to get you going!\n",
    "\n",
    "The data analysis can roughly be divided into four steps:\n",
    "1. Read experimental data from file.\n",
    "2. Identify peak positions.\n",
    "3. Calibrate the detector response.\n",
    "4. Perform a statistical analysis (e.g. error propagation) and present results.\n",
    "\n",
    "A dedicated python library, i.e. a folder with already written code, located in\n",
    "`HelpCode`, have been implemented for the data analysis connected to your labs. The folder comprises functions that support 1-3 of the\n",
    "above-mentioned steps.\n",
    "\n",
    "Full Python3 coding examples of how to perform the different steps of the data\n",
    "analysis is given below. Every example is finished with a template of how the\n",
    "`HelpCode`-folder can be used to perform the same calculations.\n"
   ]
  },
  {
   "cell_type": "markdown",
   "metadata": {
    "tags": [
     "readme"
    ]
   },
   "source": [
    "## Before we start: Jupyter Basics\n",
    "- running cells\n",
    "- output printed below cell, code 'side-effects' are kept as Python is running in the background as 'kernel'\n",
    "- order of cell executions matters!\n",
    "- when having issues: use 'undo'\n",
    "- restarting (without losing changes!): restart kernel (and clear output)\n",
    "\n",
    "**TODO : extend on instructions**"
   ]
  },
  {
   "cell_type": "markdown",
   "metadata": {},
   "source": [
    "## Python Basics and How Python Relates to Matlab\n",
    "\n",
    "You might not *need* this, but it could make it easier to read and modify the code:"
   ]
  },
  {
   "cell_type": "code",
   "execution_count": null,
   "metadata": {},
   "outputs": [],
   "source": [
    "# this is a comment and will do nothing but help you understand the code.\n",
    "# comments have a '#' before them.\n",
    "# this is code to print something into the notebook:\n",
    "print(\"Hello world!\")\n",
    "# this defines a variable 'a' that holds the value '5':\n",
    "a = 5\n",
    "# printing it gives it's value:\n",
    "print(\"The variable 'a' is: {}\".format(a))\n",
    "# doing arithmetics:\n",
    "print(\"a^2 = {}\".format(a*a))\n",
    "# TODO: a list\n",
    "# TODO: the index starting from 0\n",
    "# TODO: slicing a list\n",
    "# TODO: change print statements in rest of code to follow same standard\n",
    "# TODO: separate these lines into individual cells"
   ]
  },
  {
   "cell_type": "code",
   "execution_count": null,
   "metadata": {},
   "outputs": [],
   "source": [
    "b = 10\n",
    "print(f\"b is : {float(b)}\")\n",
    "print(\"b is : {}\".format(b))"
   ]
  },
  {
   "cell_type": "markdown",
   "metadata": {},
   "source": [
    "## Importing python libraries <a name=\"import\"></a>\n",
    "\n",
    "Here is **the full list of modules** needed to run the code in the Jupyter Notebook. "
   ]
  },
  {
   "cell_type": "code",
   "execution_count": null,
   "metadata": {},
   "outputs": [],
   "source": [
    "# TODO : remove .py files from the repo that are not explicitly used here!\n",
    "\n",
    "# Package that supports working with large arrays\n",
    "import numpy as np  \n",
    "\n",
    "# Package for plotting; \n",
    "# first line makes plots interactive, \n",
    "# second actually loads the library\n",
    "%matplotlib notebook\n",
    "import matplotlib.pyplot as plt\n",
    "\n",
    "# Function that fits a curve to data \n",
    "from scipy.optimize import curve_fit\n",
    "\n",
    "# Custom pakages prepared for you to use when analyzing experimental data from labs \n",
    "import fithelpers, histhelpers, MCA, fittingFunctions"
   ]
  },
  {
   "cell_type": "markdown",
   "metadata": {},
   "source": [
    "The very first line inserts the parent directory to the search path such that the analysis code in `fithelpers.py`, `histhelpers.py` and `MCA.py` can be found by `python`. You will likely need most of the above modules during the labs. **TODO: MOVE THE FILES INTO THE SAME FOLDER HIERACHY**\n",
    "\n",
    "The code below is only needed for the interactive demonstrations within this notebook, so please run it here as well:"
   ]
  },
  {
   "cell_type": "code",
   "execution_count": null,
   "metadata": {},
   "outputs": [],
   "source": [
    "# Package to create interactive plots\n",
    "# Only needed in this demo!\n",
    "from ipywidgets import interact, interactive, fixed, widgets, Button, Layout\n",
    "%load_ext autoreload\n",
    "%autoreload 2\n",
    "from IPython.core.display import display, HTML\n",
    "display(HTML(\"<style>.container { width:100% !important; }</style>\"))"
   ]
  },
  {
   "cell_type": "markdown",
   "metadata": {},
   "source": [
    "--------------------------------------------------------------------------------------------------------------"
   ]
  },
  {
   "cell_type": "markdown",
   "metadata": {},
   "source": [
    "# Read experimental data from file <a name=\"read\"></a>\n",
    "\n",
    "## Loading spectrum <a name=\"load\"></a>\n",
    "\n",
    "With the help of the function `load_spectrum` from package `MCA` one can read the experimental data from one data file as follows:"
   ]
  },
  {
   "cell_type": "code",
   "execution_count": null,
   "metadata": {
    "attributes": {
     "classes": [],
     "id": "",
     "n": "2"
    }
   },
   "outputs": [],
   "source": [
    "data = MCA.load_spectrum(\"FYSC12-Intro/test_data.Spe\")"
   ]
  },
  {
   "cell_type": "markdown",
   "metadata": {},
   "source": [
    "_If you are interested in how to read and write files in Python see e.g. http://www.pythonforbeginners.com/files/reading-and-writing-files-in-python or you could have a look at the source code in [MCA.py](../MCA.py)._"
   ]
  },
  {
   "cell_type": "markdown",
   "metadata": {},
   "source": [
    "`data` is an object of a class `Spectrum` in which we store information about our histogram: `bin_edges` and `bin_centers` variables give us information about our **channels** and `y` is **TODO: SHOULD WE CHANGE FROM 'Y' TO COUNTS?** used to store  **counts** (cf. [MCA.py](../MCA.py)). **LINK BROKEN! TODO: FIX** See for instance: "
   ]
  },
  {
   "cell_type": "code",
   "execution_count": null,
   "metadata": {},
   "outputs": [],
   "source": [
    "print('bin edges = ', data.bin_edges)\n",
    "print('bin centers = ', data.bin_centers)\n",
    "print('y = ', data.y)"
   ]
  },
  {
   "cell_type": "markdown",
   "metadata": {},
   "source": [
    "## Plotting the data <a name=\"plot\"></a>\n",
    "\n",
    "It is always good to visualise your data. This is how you can plot and visualise it:"
   ]
  },
  {
   "cell_type": "code",
   "execution_count": null,
   "metadata": {},
   "outputs": [],
   "source": [
    "plt.figure()\n",
    "# with the data read in with the first routine\n",
    "plt.step(data.bin_centers, data.y, where='mid', label='step')\n",
    "\n",
    "plt.title(\"Test spectrum\") # set title of the plot\n",
    "plt.xlabel(\"Channels\")     # set label for x-axis \n",
    "plt.ylabel(\"Counts\")       # set label for y-axis \n",
    "#plt.savefig(\"test_spectrum.png\") # This is how you save the figure. Change the extension for different file types such as pdf or png.\n",
    "\n",
    "\n",
    "## Could be useful to see this in log scale..?\n",
    "# plt.yscale('log')\n",
    "# plt.ylim(ymin=1)"
   ]
  },
  {
   "cell_type": "markdown",
   "metadata": {},
   "source": [
    "You could also use an option `plt.hist` to plot \"proper histogram\", where you give your bin centers positions alongsite of bin edges and weights: **NICE TO SHOW HOW TO ADD SOMETHING TO A FIGURE, BUT _SLOW_; TODO: REMOVE?**"
   ]
  },
  {
   "cell_type": "code",
   "execution_count": null,
   "metadata": {},
   "outputs": [],
   "source": [
    "# make a new figure:\n",
    "plt.figure() # use 'figsize(12,8)' as argument to 'figure' for 12x8 in size plots\n",
    "\n",
    "# as before but changing the style a bit and adding a entry for the legend:\n",
    "plt.step(data.bin_centers, data.y, where='mid', \n",
    "         label='step plot',               # will be added to the legend\n",
    "         linestyle=':', linewidth=0.75)   # changes the line style and width\n",
    "\n",
    "# the 'proper' but much slower way:\n",
    "# can you spot any differences?\n",
    "plt.hist(data.bin_centers, bins=data.bin_edges, weights=data.y, label='hist plot')\n",
    "\n",
    "# Adding a plot to a figure: just run a 'plt.step' or 'plt.plot' command on the same figure!\n",
    "\n",
    "plt.title(\"Test spectrum\")\n",
    "plt.xlabel(\"Channels\")\n",
    "plt.ylabel(\"Counts\")\n",
    "plt.legend() # shows the legend\n"
   ]
  },
  {
   "cell_type": "markdown",
   "metadata": {},
   "source": [
    "--------------------------------------------------------------------------------------------------------------"
   ]
  },
  {
   "cell_type": "markdown",
   "metadata": {},
   "source": [
    "# Analyzing data <a name=\"fit\"></a>\n",
    "\n",
    "In $\\gamma$-ray (or other radiation) spectroscopy measurements, the goal is usually to determine the energy and the intensity of the radiation. To extract the energy of a given emission line (or use it for calibration puposes), the centroid of a peak must be determined. Area of the peak represents to the intensity of the radiation. A good way to find the peak centroid and area is to fit a Gaussian to the peak. \n",
    "\n",
    "## Fitting a Gaussian <a name=\"gaussian\"></a>\n",
    "\n",
    "When we say that we \"fit\" a function to data, we mean that we are looking for the set of parameters to the function that give the best possible approximation of the data. The algorithm for this usually works iteratively: it starts with some initial guesses for the parameters and then varies in steps. Each time, the (squared) differences to the data are considered; once these are minimized, the algorithm returns the result to the user, typically with some additional statistical information that hints at the quality of the result.\n",
    "\n",
    "A fit therefore needs four ingredients:\n",
    "* the data to fit (often a *subset* of the full data set, i.e. the peak region)\n",
    "* a function\n",
    "* initial guesses for its parameters, i.e. a starting point\n",
    "* an algorithm to perform the fit with\n",
    "\n",
    "In this notebook, we use the function `curve_fit` from the `scipy.optimize` module for the latter. If you want, you find more detailed information in the [reference documentation to curve_fit](https://docs.scipy.org/doc/scipy/reference/generated/scipy.optimize.curve_fit.html). It uses a method called least squares which you can read about in most course literature on statistics and for instance on [Wolfram Alpha](http://mathworld.wolfram.com/LeastSquaresFitting.html).\n",
    "\n",
    "Specifically, we will fit a Gaussian function. Read up on the Gaussian function and its parameters here: [https://en.wikipedia.org/wiki/Gaussian_function](https://en.wikipedia.org/wiki/Gaussian_function)\n",
    "\n",
    "The following code shows how to use the function `curve_fit` to fit a peak in\n",
    "the data that was loaded in the cells above (i.e. _you will need to execute the above code\n",
    "section once before this section will work_).\n",
    "\n",
    "**You might get an error**, if you make a mistake in your initial guesses and the fit does not converge. Just double-check the values and try some others!\n",
    "\n",
    "**If it doesn't work or feels overwhelming to deal with curve_fit directly**, move on, there will be more and simpler exercises on fitting below (with error handling ;)."
   ]
  },
  {
   "cell_type": "markdown",
   "metadata": {},
   "source": [
    "# TODO : add here a widget which allows to manually adjust Gaussian parameters to fit one of the peaks\n",
    "- adjust text above to reflect this"
   ]
  },
  {
   "cell_type": "markdown",
   "metadata": {},
   "source": [
    "# TODO : introduce fitting of data using curve_fit\n",
    "- let the students adjust the parameters to the ones that they have determined before\n",
    "- hint at showing 'summary' functions later that will do all this in one go"
   ]
  },
  {
   "cell_type": "code",
   "execution_count": null,
   "metadata": {
    "attributes": {
     "classes": [],
     "id": "",
     "n": "6"
    }
   },
   "outputs": [],
   "source": [
    "##### Preparing out inputs to the algorithm:\n",
    "\n",
    "### 1. define the data to fit\n",
    "# define limits to the data (only want to fit peak!)\n",
    "region_start = 3270  # bins where to start fitting\n",
    "region_stop  = 3330  # bins where to stop fitting\n",
    "# these define a region of interest in our data binning:\n",
    "region = (region_start < data.bin_centers) & (data.bin_centers < region_stop)\n",
    "# now limit our data by 'slicing' it, limiting it to the region of interest:\n",
    "peak_region_bc     = data.bin_centers[region]\n",
    "peak_region_counts = data.y[region]\n",
    "\n",
    "\n",
    "### 2. the function\n",
    "def GaussFunc(x, A, mu, sigma):\n",
    "    return A*np.exp(-(x-mu)**2/(2.*sigma**2))\n",
    "\n",
    "\n",
    "### 3. our initial guesses:\n",
    "mu_guess = 3300                    # a guess for position of peak centroid\n",
    "A_guess = peak_region_counts.max() # amplitude guess: take max of region!\n",
    "# TODO : make students guess A as well?\n",
    "sigma_guess = 1                    # let the fit figure out the rest :)\n",
    "\n",
    "guess = [A_guess, mu_guess, sigma_guess] # our initial guess of parameters for a Gaussian fit \n",
    "\n",
    "\n",
    "### 4. Now we can perform the fit using curve_fit:\n",
    "\n",
    "estimates, covar_matrix = curve_fit(GaussFunc,           # name of the function\n",
    "                                    peak_region_bc,      # your xdata\n",
    "                                    peak_region_counts,  # your ydata\n",
    "                                    p0=guess)            # initial guess for the parameters\n",
    "\n",
    "A, mu, sigma = estimates[0], estimates[1], estimates[2] # unpack results\n",
    "\n",
    "### Plot your Gaussian fit\n",
    "plt.figure()\n",
    "plt.step(peak_region_bc, peak_region_counts, where='mid', label='data')                   # plotting the data \n",
    "plt.plot(peak_region_bc, GaussFunc(peak_region_bc, A, mu, sigma), label = 'Gaussian fit') # plotting the fit\n",
    "plt.legend() # adds a legend with all 'label'ed plots!\n",
    "\n",
    "### Print information about the resulting parameters\n",
    "print(\"Estimates of (A mu sigma) = (\", A, mu, sigma, \")\\n\")\n",
    "print(\"Covariance matrix = \\n\", covar_matrix, \"\\n\")\n",
    "print(\"Uncertainties in the estimated parameters: \\n[ sigma^2(A) sigma^2(mu), sigma^2(sigma) ] = \\n[\", covar_matrix[0][0], covar_matrix[1][1], covar_matrix[2][2], \"]\" )\n"
   ]
  },
  {
   "cell_type": "markdown",
   "metadata": {},
   "source": [
    "### Calculating Peak Area <a name=\"peak_area\"></a>\n",
    "\n",
    "There are different ways in how to calculate the area of a peak in a spectrum. The by far easiest method is to calculate the area of the fitted Gaussian function (see [https://en.wikipedia.org/wiki/Gaussian_function](https://en.wikipedia.org/wiki/Gaussian_function))."
   ]
  },
  {
   "cell_type": "code",
   "execution_count": null,
   "metadata": {
    "scrolled": true
   },
   "outputs": [],
   "source": [
    "Area = np.sqrt(2*np.pi)*A*np.abs(sigma)\n",
    "print('Area of peak is: ', Area)"
   ]
  },
  {
   "cell_type": "markdown",
   "metadata": {},
   "source": [
    "# TODO : add a widget here that allows to play with the fitting parameters to get a feeling for how they affect the result (and the relative uncertainty)"
   ]
  },
  {
   "cell_type": "markdown",
   "metadata": {},
   "source": [
    "### Analysis code <a name=\"code_gauss\"></a>\n",
    "\n",
    "To produce the same results you can just use the function `perform_Gaussian_fit` from `fittingFunctions` package. \n",
    "\n",
    "\n",
    "**You can just copy the following cell and use it in your Jupyter Notebooks with solutions for laboratories.**"
   ]
  },
  {
   "cell_type": "code",
   "execution_count": null,
   "metadata": {
    "attributes": {
     "classes": [],
     "id": "",
     "n": "7"
    }
   },
   "outputs": [],
   "source": [
    "mu_guess = 3300 # guess of a position of a peak centroid \n",
    "n = 30 #number of points on each side to include in fit\n",
    "# TODO : change n to start+stop as before\n",
    "\n",
    "gauss = fittingFunctions.perform_Gaussian_fit(data.bin_centers, data.y, mu_guess, n)\n",
    "\n",
    "Area = np.sqrt(2*np.pi)*gauss.A*np.abs(gauss.sigma)\n",
    "print('Area of peak is: ', Area)"
   ]
  },
  {
   "cell_type": "markdown",
   "metadata": {},
   "source": [
    "### Influence of initial guess on your Gaussian fit - widget <a name=\"widget_gauss\"></a>"
   ]
  },
  {
   "cell_type": "markdown",
   "metadata": {},
   "source": [
    "# TODO : make all parameters modifyable inside the widget (A,mu,sigma, range) and clearly print uncertainties"
   ]
  },
  {
   "cell_type": "code",
   "execution_count": null,
   "metadata": {},
   "outputs": [],
   "source": []
  },
  {
   "cell_type": "markdown",
   "metadata": {},
   "source": [
    "Now let's look at how our initial guess of the position of peak centroid and number of points influence out fit. Change numbers for mu_guess and n, and check how the change affects your fit. **TODO : make this the initial demonstration of how fitting works**"
   ]
  },
  {
   "cell_type": "code",
   "execution_count": null,
   "metadata": {},
   "outputs": [],
   "source": [
    "mu_guess_widget = widgets.IntSlider(value=3300, min=3200, max=3400, step=1, description=r'mu_guess')\n",
    "n_widget = widgets.IntSlider(value=30, min=15, max=45, step=1, description=r'n_widget')\n",
    "\n",
    "interactive_plot=interact.options(manual=True, manual_name=\"Update\")\n",
    "\n",
    "@interactive_plot(\n",
    "    mu_guess = mu_guess_widget, n = n_widget)\n",
    "def interactive_plot(mu_guess = mu_guess_widget.value, n = n_widget.value):\n",
    "    fittingFunctions.perform_Gaussian_fit(data.bin_centers, data.y, mu_guess_widget.value, n_widget.value)"
   ]
  },
  {
   "cell_type": "markdown",
   "metadata": {},
   "source": [
    "## Improving your fit - accounting for a linear background  <a name=\"background\"></a>"
   ]
  },
  {
   "cell_type": "markdown",
   "metadata": {},
   "source": [
    "# TODO : change the second peak to have lots more of background and look into fitting it here\n",
    "- same approach: first widget, then code, then simple function?"
   ]
  },
  {
   "cell_type": "markdown",
   "metadata": {},
   "source": [
    "Often times we want to subtract the background from our peak as the peak may be on the Compton continuum of other peaks higher in energy. It is needed to be able to correctly determine the intensity of the peak.\n",
    "\n",
    "**TODO : use same approach here as earlier**"
   ]
  },
  {
   "cell_type": "code",
   "execution_count": null,
   "metadata": {},
   "outputs": [],
   "source": [
    "#### Your values go here: \n",
    "\n",
    "mu_guess = 3300 # guess of a position of a peak centroid\n",
    "n = 30          #number of points on each side to include in fit\n",
    "\n",
    "#Let's select channels on both sides of our fit to which we want to fit our line:\n",
    "left_selection = [3285, 3290]\n",
    "right_selection = [3310, 3312]##### Now we can perform the fit:\n",
    "\n",
    "# TODO : rely on results from previous cells here? <-- +1\n",
    "# TODO : use approach of first fit here as well?\n",
    "# TODO : alternatively, one can use numpy where:\n",
    "peak_center_idx = np.where(data.bin_centers>mu_guess)[0][0] # returns idx that fulfill criteria; take first\n",
    "peak_center_idx = (np.abs(data.bin_centers-mu_guess)).argmin() # find index of the mu guess value in bin_centers array \n",
    "\n",
    "# select values from bin_centers and y arrays of your data that correspond to your initiall guess af a peak\n",
    "peak_x = data.bin_centers[peak_center_idx-n:peak_center_idx+n]\n",
    "peak_y = data.y[peak_center_idx-n:peak_center_idx+n]\n",
    "\n",
    "\n",
    "############ Selecting points to fit linear function\n",
    "# TODO : this can be solved simpler by using\n",
    "# select a region with logic statement:\n",
    "# take values EITHER on the left side \n",
    "# (bigger than lower limit AND ('&') smaller than upper limit)\n",
    "# OR ('|') on the right side\n",
    "lin_region = ((data.bin_centers>left_selection[0]) & (data.bin_centers<left_selection[1])) | ((data.bin_centers>right_selection[0]) & (data.bin_centers<right_selection[1]))\n",
    "lin_bc = data.bin_centers[lin_region]\n",
    "lin_counts = data.y[lin_region]\n",
    "\n",
    "left_idx = [(np.abs(data.bin_centers-left_selection[0])).argmin(), (np.abs(data.bin_centers-left_selection[1])).argmin()]\n",
    "right_idx = [(np.abs(data.bin_centers-right_selection[0])).argmin(), (np.abs(data.bin_centers-right_selection[1])).argmin()]\n",
    "\n",
    "left_x = data.bin_centers[left_idx[0]:(left_idx[1]+1)]\n",
    "right_x = data.bin_centers[right_idx[0]:(right_idx[1]+1)]\n",
    "\n",
    "left_y = data.y[left_idx[0]:(left_idx[1]+1)]\n",
    "right_y = data.y[right_idx[0]:(right_idx[1]+1)]\n",
    "\n",
    "lin_x = np.concatenate([left_x, right_x])\n",
    "lin_y = np.concatenate([left_y, right_y])\n",
    "\n",
    "############ Fitting linear function to selected points\n",
    "\n",
    "guess = [2, 1]\n",
    "\n",
    "estimates_lin, covar_matrix = curve_fit(fittingFunctions.LineFunc,\n",
    "                                    lin_x,\n",
    "                                    lin_y,\n",
    "                                    p0 = guess)\n",
    "\n",
    "\n",
    "############ Subtracting the linear background\n",
    "\n",
    "peak_lin = fittingFunctions.LineFunc(peak_x, estimates_lin[0], estimates_lin[1]) # \n",
    "y_subst = peak_y - peak_lin\n",
    "\n",
    "############ Fit the Gaussian to the peak without backround\n",
    "\n",
    "A_guess = data.y[peak_center_idx]                              # a guess for the amplitude of the peak (you do not need to change it)\n",
    "sigma_guess = 1                                                # guess for sigma \n",
    "guess = [A_guess, mu_guess, sigma_guess]\n",
    "\n",
    "estimates, covar_matrix = curve_fit(fittingFunctions.GaussFunc,\n",
    "                                    peak_x,\n",
    "                                    y_subst,\n",
    "                                    p0=guess)\n",
    "A, mu, sigma = estimates[0], estimates[1], estimates[2] # unpack results\n",
    "# TODO : either above OR below\n",
    "g_final = fittingFunctions.Gauss(estimates[0], estimates[1], estimates[2], covar_matrix )\n",
    "\n",
    "\n",
    "\n",
    "############ Plotting results \n",
    "# TODO : this is quite a wall of values -- can this be simplified?\n",
    "plt.figure()\n",
    "plt.step(peak_x, peak_y, where='mid', label='data')\n",
    "# #plot points to which linear function is fitted\n",
    "plt.step(left_x, left_y, where='mid', color='y')\n",
    "plt.step(right_x, right_y, where='mid', color='y')\n",
    "# #plot support lines\n",
    "plt.vlines(left_selection+right_selection, ymin=0, ymax=g_final.A)\n",
    "# plot Gaussian\n",
    "#plt.plot(x_fin, GaussFunc(x_fin, g_final.A, g_final.mu, g_final.sigma), color='gray')\n",
    "plt.plot(peak_x, peak_lin + GaussFunc(peak_x, g_final.A, g_final.mu, g_final.sigma), 'forestgreen', label='Gaussian fit')\n",
    "# plot linear fit\n",
    "plt.plot(lin_x, fittingFunctions.LineFunc(lin_x, estimates_lin[0], estimates_lin[1]), color='r', label = 'linear fit', alpha=0.6) \n",
    "plt.legend(loc='upper right', frameon=False)\n",
    "plt.show()\n",
    "\n",
    "########### Printing results\n",
    "print(\"Linear fit estimates (k m) = (\", estimates_lin[0], estimates_lin[1], \")\\n\")\n",
    "print(\"Estimates of (A mu sigma) = (\", g_final.A, g_final.mu, g_final.sigma, \")\\n\")\n",
    "print(\"Covariance matrix = \\n\", g_final.covar_matrix, \"\\n\")\n",
    "print(\"Uncertainties in the estimated parameters: \\n[ sigma^2(A) sigma^2(mu), sigma^2(sigma) ] = \\n[\", g_final.covar_matrix[0][0], g_final.covar_matrix[1][1], g_final.covar_matrix[2][2], \"]\" )\n"
   ]
  },
  {
   "cell_type": "markdown",
   "metadata": {},
   "source": [
    "### Analysis code  <a name=\"code_background\"></a>\n",
    "\n",
    "To make a Gaussian fit that takes into account the background just use a function `perform_Gaussian_fit` from `fittingFunctions` package with specifying `left_selection` and `right_selection` arrays. _In case you are interested in how the fit was performed you have a look on the function `perform_Gaussian_fit` [fittingFunctions.py](../fittingFunctions.py)._\n",
    "\n",
    "\n",
    "**You can just copy the following cell and use it in your Jupyter Notebooks with solutions for laboratories.**"
   ]
  },
  {
   "cell_type": "code",
   "execution_count": null,
   "metadata": {},
   "outputs": [],
   "source": [
    "mu_guess = 3300 # guess of a position of a peak centroid \n",
    "n = 30 #number of points on each side to include in fit\n",
    "\n",
    "#Let's select channels on both sides of our fit to which we want to fit our line: \n",
    "left_selection = [3285, 3290]\n",
    "right_selection = [3310, 3312]\n",
    "\n",
    "gauss = fittingFunctions.perform_Gaussian_fit(data.bin_centers, data.y, mu_guess, n, left_selection, right_selection)"
   ]
  },
  {
   "cell_type": "markdown",
   "metadata": {},
   "source": [
    "### Widget background  <a name=\"widget_background\"></a>"
   ]
  },
  {
   "cell_type": "code",
   "execution_count": null,
   "metadata": {},
   "outputs": [],
   "source": [
    "mu_guess_widget = widgets.IntSlider(value=3300, min=3250, max=3350, step=1, description=r'mu_guess')\n",
    "n_widget = widgets.IntSlider(value=30, min=15, max=45, step=1, description=r'n_widget')\n",
    "left_selection_widget = widgets.IntRangeSlider(values=[3285, 3290], min=(mu_guess_widget.value - n_widget.value), max=(mu_guess_widget.value - int(n_widget.value/4)))\n",
    "right_selection_widget = widgets.IntRangeSlider(values=[3310, 3312], min=(mu_guess_widget.value + int(n_widget.value/4)), max=(mu_guess_widget.value + n_widget.value))\n",
    "\n",
    "def update_left(change):\n",
    "    left_selection_widget.min = mu_guess_widget.value - n_widget.value\n",
    "    left_selection_widget.max = mu_guess_widget.value - int(n_widget.value/4)\n",
    "def update_right(change):    \n",
    "    right_selection_widget.min = mu_guess_widget.value + int(n_widget.value/4)\n",
    "    right_selection_widget.max = mu_guess_widget.value + n_widget.value\n",
    "    \n",
    "    \n",
    "left_selection_widget.observe(update_left, 'value')\n",
    "right_selection_widget.observe(update_right, 'value')\n",
    "\n",
    "interactive_plot2=interact.options(manual=True, manual_name=\"Update\")\n",
    "\n",
    "@interactive_plot2(\n",
    "    mu_guess = mu_guess_widget, n = n_widget, left_selection=left_selection_widget, right_selection=right_selection_widget)\n",
    "\n",
    "def interactive_plot_background(mu_guess = mu_guess_widget.value, n = n_widget.value, left_selection=left_selection_widget, right_selection=right_selection_widget):\n",
    "    fittingFunctions.perform_Gaussian_fit(data.bin_centers, data.y, mu_guess_widget.value, n_widget.value, left_selection_widget.value, right_selection_widget.value)"
   ]
  },
  {
   "cell_type": "markdown",
   "metadata": {},
   "source": [
    "## Fit a line - Energy calibration <a name=\"line\"></a>\n",
    "\n",
    "In spectroscopy experiments it is often essential to calibrate the detector response with respect to a known energies emitted from a so called calibration source. The relationship between the detector response and the energy is mostly assumed linear. The code below exemplifies how to estimate the linear calibration for 'random data'."
   ]
  },
  {
   "cell_type": "markdown",
   "metadata": {},
   "source": [
    "# TODO : consider to make this a 'real' energy calibration\n",
    "- after peak identification, make a linear fit to given energies, then apply calibration to the data and plot spectrum as fcn of energy"
   ]
  },
  {
   "cell_type": "code",
   "execution_count": null,
   "metadata": {},
   "outputs": [],
   "source": [
    "# x and y are some 'random data'\n",
    "x = np.asarray([1,3,5,7])\n",
    "y = np.asarray([1.3, 2.1, 2.9, 4.2])\n",
    "\n",
    "#If you are more or less uncertain about your y-values this can be used in the fit by including the following line.\n",
    "sigmay = np.asarray([0.5, 0.3, 0.1, 0.2])\n",
    "\n",
    "# Define the linear function which you want to fit.\n",
    "def LineFunc(x, k, m):\n",
    "    return k*x+m\n",
    "\n",
    "# As for the Gaussian fit the function curve_fit needs a guess for the parameters to be estimated.\n",
    "guess = [2, 1]\n",
    "\n",
    "# Perform the fit\n",
    "estimates, covar_matrix = curve_fit(LineFunc,\n",
    "                                    x,\n",
    "                                    y,\n",
    "                                    p0 = guess,\n",
    "                                    sigma = sigmay)\n",
    "\n",
    "print(\"Estimates of (k m) = (\", estimates[0], estimates[1], \")\\n\")\n",
    "\n",
    "# plot the result\n",
    "plt.figure()\n",
    "plt.plot(x,y, linestyle=\"\", marker=\"*\", label='data points')\n",
    "plt.plot(x, LineFunc(x, estimates[0], estimates[1]), label='linear fit')\n",
    "plt.legend(loc='upper left')\n",
    "plt.show()"
   ]
  },
  {
   "cell_type": "markdown",
   "metadata": {},
   "source": [
    "## Statistical analysis - Error propagation<a name=\"stat\"></a>\n",
    "\n",
    "Background theory and instructions on how to perform statistical analysis on\n",
    "experimental data, with error propagation, can be found in the document\n",
    "http://www.fysik.lu.se/fileadmin/fysikportalen/UDIF/Bilder/FYSA31_KF_error.pdf."
   ]
  },
  {
   "cell_type": "markdown",
   "metadata": {},
   "source": [
    "# TODO : couple this more directly to what was done before -- maybe even how to use this in the energy calibration step?"
   ]
  }
 ],
 "metadata": {
  "celltoolbar": "Tags",
  "hide_input": false,
  "kernelspec": {
   "display_name": "Python 3",
   "language": "python",
   "name": "python3"
  },
  "language_info": {
   "codemirror_mode": {
    "name": "ipython",
    "version": 3
   },
   "file_extension": ".py",
   "mimetype": "text/x-python",
   "name": "python",
   "nbconvert_exporter": "python",
   "pygments_lexer": "ipython3",
   "version": "3.6.8"
  },
  "latex_envs": {
   "LaTeX_envs_menu_present": true,
   "autoclose": false,
   "autocomplete": true,
   "bibliofile": "biblio.bib",
   "cite_by": "apalike",
   "current_citInitial": 1,
   "eqLabelWithNumbers": true,
   "eqNumInitial": 1,
   "hotkeys": {
    "equation": "Ctrl-E",
    "itemize": "Ctrl-I"
   },
   "labels_anchors": false,
   "latex_user_defs": false,
   "report_style_numbering": false,
   "user_envs_cfg": false
  },
  "toc": {
   "base_numbering": 1,
   "nav_menu": {},
   "number_sections": true,
   "sideBar": true,
   "skip_h1_title": false,
   "title_cell": "Table of Contents",
   "title_sidebar": "Contents",
   "toc_cell": false,
   "toc_position": {},
   "toc_section_display": true,
   "toc_window_display": false
  }
 },
 "nbformat": 4,
 "nbformat_minor": 4
}
