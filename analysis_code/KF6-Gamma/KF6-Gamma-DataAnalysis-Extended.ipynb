{
 "cells": [
  {
   "cell_type": "markdown",
   "metadata": {},
   "source": [
    "# FYSC12 KF6 - Gamma lab - Data Analysis \n",
    "\n",
    "## Table of Content\n",
    "\n",
    "* [Preparations for the lab](#about)\n",
    "    * [Read experimental data from file](#read)\n",
    "    * [Fitting Gaussians](#gaussian)\n",
    "    * [Calculate Peak Area](#peak_area)\n",
    "    * [Fit a line - Energy calibration](#line)\n",
    "    \n",
    "\n",
    "* [Co-60 source](#import)\n",
    "    * [Calculating peak cenroid and FWHM](#import)\n",
    "    * [Calibrating NaI(Tl) and HPGe detectors](#import)\n",
    "    \n",
    "    \n",
    "* [Na-22 source](#import)\n",
    "    * [Compton continuum discussion](#import)\n",
    "    * [Calculating ratio of 1273keV $\\gamma$-ray and annihilation photons ](#import)\n",
    "    \n",
    "    \n",
    "* [Ba-137 source](#import)\n",
    "    * [Internal conversion coefficient](#import)\n",
    "\n",
    "\n",
    "* [Cf-252 source](#import)\n",
    "    * [Deuteron binding energy](#import)\n",
    "    \n",
    "    \n",
    "* [FWHM as a function of gamma-ray energy](#import)\n",
    "\n",
    "\n",
    "* [Idetifying peaks from the background radiation](#import)\n",
    "\n",
    "    \n",
    "\n",
    "    \n",
    "\n",
    "\n",
    "\n",
    "\n",
    "\n",
    "\n"
   ]
  },
  {
   "cell_type": "markdown",
   "metadata": {},
   "source": [
    "## About this Notebook <a name=\"about\"></a>\n",
    "\n",
    "The purpose of this _jupyter_ notebook is to introduce data analysis in the\n",
    "frame of gamma spectroscopy. The example programming language is _Python3_, but\n",
    "of course most coding languages can do the job properly. If you have never\n",
    "programmed before there are so many great tutorials available across the web.\n",
    "There even exist plenty _Open Online Courses_, e.g.\n",
    "https://www.coursera.org/learn/python. Please have a look around for the one\n",
    "that you like the best. However, note that you do not need to be an expert in\n",
    "Python to pass the lab.\n",
    "\n",
    "The data analysis can roughly be divided into four steps:\n",
    "1. Read experimental data from file.\n",
    "2. Fit Gaussians to peaks.\n",
    "3. Calibrate the detector response.\n",
    "4. Perform a statistical analysis (e.g. error propagation) and present results.\n",
    "\n",
    "A dedicated python library, i.e. a folder with already written code, located in\n",
    "`HelpCode`, have been implemented for the data analysis connected to the labs in\n",
    "FYSC12 Nuclear Physics. The folder comprises functions that support 1-3 of the\n",
    "above-mentioned steps.\n",
    "\n",
    "Full Python3 coding examples of how to perform the different steps of the data\n",
    "analysis is given below. Every example is finished with a template of how the\n",
    "`HelpCode`-folder can be used to perform the same calculations.\n",
    "\n",
    "**NOTE**: It is strongly recommended that you program your own functions instead\n",
    "of using the framework directly out of the book. As you will find out, there\n",
    "will come a point where the framework functionalities are not to your\n",
    "satisfaction, and then you need to code yourself. So, better get used to it\n",
    "right away :)"
   ]
  },
  {
   "cell_type": "markdown",
   "metadata": {},
   "source": [
    "## Importing python packages <a name=\"import\"></a>\n",
    "\n",
    "Inserting parent directory to the path such that the analysis code in `fithelpers.py`, `histhelpers.py` and `MCA.py` can be found by `python`."
   ]
  },
  {
   "cell_type": "code",
   "execution_count": null,
   "metadata": {},
   "outputs": [],
   "source": [
    "import sys, os\n",
    "sys.path.append('../')\n",
    "import numpy as np\n",
    "import fithelpers, histhelpers, MCA"
   ]
  },
  {
   "cell_type": "markdown",
   "metadata": {},
   "source": [
    "# Preparations for the Gamma lab:"
   ]
  },
  {
   "cell_type": "markdown",
   "metadata": {},
   "source": [
    "In order to prepare for the lab you have to run and test code cells from the section. \n",
    "\n",
    "In this section of the notebook it is shown how to:\n",
    "- Read experimental data from file \n",
    "- Visualize the data \n",
    "- Perform fit of the data "
   ]
  },
  {
   "cell_type": "markdown",
   "metadata": {},
   "source": [
    "## Read experimental data from file <a name=\"read\"></a>\n",
    "\n",
    "For an introduction on how to read and write files see e.g. http://www.pythonforbeginners.com/files/reading-and-writing-files-in-python or you could have a look at the source code in [MCA.py](../MCA.py).\n",
    "\n",
    "### Analysis Code <a name=\"help1\"></a>\n",
    "\n",
    "With the `analysis_code` one can read the experimental data from one data file as follows:"
   ]
  },
  {
   "cell_type": "code",
   "execution_count": null,
   "metadata": {
    "attributes": {
     "classes": [],
     "id": "",
     "n": "2"
    }
   },
   "outputs": [],
   "source": [
    "data = MCA.load_spectrum(\"test_data.Spe\")"
   ]
  },
  {
   "cell_type": "markdown",
   "metadata": {},
   "source": [
    "`data` is an object of a class `Spectrum` and holds the channels in `x` and its content in `y` (cf. [MCA.py](../MCA.py)). See for instance: "
   ]
  },
  {
   "cell_type": "code",
   "execution_count": null,
   "metadata": {},
   "outputs": [],
   "source": [
    "print('x = ', data.x)\n",
    "print('y = ', data.y)"
   ]
  },
  {
   "cell_type": "markdown",
   "metadata": {},
   "source": [
    "### Plotting the data <a name=\"plot\"></a>\n",
    "\n",
    "It is always good to visualise your data. This is how you can plot and visualise it:"
   ]
  },
  {
   "cell_type": "code",
   "execution_count": null,
   "metadata": {
    "attributes": {
     "classes": [],
     "id": "",
     "n": "4"
    }
   },
   "outputs": [],
   "source": [
    "import matplotlib\n",
    "# choose a backend for web applications; remove for stand-alone applications:\n",
    "matplotlib.use('Agg')\n",
    "# enable interactive notebook plots (\n",
    "# alternative: use 'inline' instead of 'notebook'/'widget' for static images)\n",
    "%matplotlib notebook\n",
    "\n",
    "#The following line is the ONLY one needed in stand-alone applications!\n",
    "import matplotlib.pyplot as plt"
   ]
  },
  {
   "cell_type": "code",
   "execution_count": null,
   "metadata": {
    "attributes": {
     "classes": [],
     "id": "",
     "n": "5"
    }
   },
   "outputs": [],
   "source": [
    "plt.figure()\n",
    "# with the data read in with the first routine\n",
    "plt.plot(data.x, data.y)\n",
    "\n",
    "#plt.savefig(\"test_spectrum.png\") #This is how you save the figure\n",
    "plt.show()\n",
    "\n",
    "## Could be useful to see this in log scale..?\n",
    "#plt.yscale('log')\n",
    "#plt.ylim(ymin=1)"
   ]
  },
  {
   "cell_type": "code",
   "execution_count": null,
   "metadata": {},
   "outputs": [],
   "source": [
    "plt.figure()\n",
    "plt.hist(data.x, weights=data.y, bins=range(len(x)+1))\n",
    "plt.show()\n"
   ]
  },
  {
   "cell_type": "markdown",
   "metadata": {},
   "source": [
    "## Fit of data <a name=\"fit\"></a>\n",
    "\n",
    "Fitting functions can be made simply with the `scipy.optimize` module. The\n",
    "function `curve_fit` does the job for you and the [documentation](https://docs.scipy.org/doc/scipy/reference/generated/scipy.optimize.curve_fit.html) contains\n",
    "all the valuable information on how to use the function. It uses a method called\n",
    "least squares which you can read about in most course literature on statistics\n",
    "and for instance on [Wolfram\n",
    "Alpha](http://mathworld.wolfram.com/LeastSquaresFitting.html).\n",
    "\n",
    "### Fitting Gaussian <a name=\"gaussian\"></a>\n",
    "\n",
    "Read up on the Gaussian function here: [https://en.wikipedia.org/wiki/Gaussian_function](https://en.wikipedia.org/wiki/Gaussian_function)\n",
    "\n",
    "The following code shows how to use the function `curve_fit` to fit a peak in\n",
    "the data that was read in above (i.e. you will need to execute the above code\n",
    "section before this section will work)."
   ]
  },
  {
   "cell_type": "code",
   "execution_count": null,
   "metadata": {
    "attributes": {
     "classes": [],
     "id": "",
     "n": "6"
    }
   },
   "outputs": [],
   "source": [
    "from scipy.optimize import curve_fit\n",
    "\n",
    "def GaussFunc(x, A, mu, sigma):\n",
    "    return A*np.exp(-(x-mu)**2/(2.*sigma**2))\n",
    "\n",
    "#mu = np.asarray([3300, 3750])\n",
    "#E = np.asarray([1173.2, 1332.5])\n",
    "mu_guess = 3300\n",
    "A_guess = data.y[mu_guess]\n",
    "sigma_guess = 1\n",
    "guess = [A_guess, mu_guess, sigma_guess]\n",
    "n = 50 #number of points on each side to include in fit\n",
    "\n",
    "estimates, covar_matrix = curve_fit(GaussFunc,\n",
    "                                    data.x[mu_guess-n:mu_guess+n],\n",
    "                                    data.y[mu_guess-n:mu_guess+n],\n",
    "                                    p0=guess)\n",
    "A, mu, sigma = estimates[0], estimates[1], estimates[2]\n",
    "print(\"Estimates of (A mu sigma) = (\", A, mu, sigma, \")\\n\")\n",
    "\n",
    "print(\"Covariance matrix = \\n\", covar_matrix, \"\\n\")\n",
    "\n",
    "print(\"Uncertainties in the estimated parameters: \\n[ sigma^2(A) sigma^2(mu), sigma^2(sigma) ] = \\n[\", covar_matrix[0][0], covar_matrix[1][1], covar_matrix[2][2], \"]\" )\n",
    "\n",
    "plt.figure()\n",
    "plt.plot(data.x[mu_guess-n:mu_guess+n],data.y[mu_guess-n:mu_guess+n], linestyle=\"\", marker=\"*\")\n",
    "plt.plot(data.x[mu_guess-n:mu_guess+n], GaussFunc(data.x[mu_guess-n:mu_guess+n], A, mu, sigma))\n",
    "plt.show()"
   ]
  },
  {
   "cell_type": "markdown",
   "metadata": {},
   "source": [
    "### Calculating Peak Area <a name=\"peak_area\"></a>\n",
    "\n",
    "There are different ways in how to calculate the area of a peak in a spectrum. The by far easiest method is to calculate the area of the fitted Gaussian function (see [https://en.wikipedia.org/wiki/Gaussian_function](https://en.wikipedia.org/wiki/Gaussian_function))."
   ]
  },
  {
   "cell_type": "code",
   "execution_count": null,
   "metadata": {
    "scrolled": true
   },
   "outputs": [],
   "source": [
    "Area = np.sqrt(2*np.pi)*A*np.abs(sigma)\n",
    "print('Area of peak is: ', Area)"
   ]
  },
  {
   "cell_type": "markdown",
   "metadata": {},
   "source": [
    "### Analysis code\n",
    "\n",
    "With the analysis code:"
   ]
  },
  {
   "cell_type": "code",
   "execution_count": null,
   "metadata": {
    "attributes": {
     "classes": [],
     "id": "",
     "n": "7"
    }
   },
   "outputs": [],
   "source": [
    "mu_guess = 3300\n",
    "A_guess = data.y[mu_guess]\n",
    "sigma_guess = 1\n",
    "n = 50 #number of points on each side to include in fit\n",
    "\n",
    "gauss = fithelpers.fit_gaussian_at_idx(data.x, data.y, mu_guess, npoints=n)\n",
    "print(\"Estimates of (A mu sigma) = (\", gauss.A, gauss.mu, gauss.sigma, \")\\n\")\n",
    "\n",
    "print(\"Covariance matrix = \\n\", gauss.covar_matrix, \"\\n\")\n",
    "\n",
    "print(\"Uncertainties in the estimated parameters: \\n[ sigma^2(A) sigma^2(mu), sigma^2(sigma) ] = \\n[\", gauss.covar_matrix[0][0], gauss.covar_matrix[1][1], gauss.covar_matrix[2][2], \"]\" )\n",
    "\n",
    "plt.figure()\n",
    "plt.plot(data.x[mu_guess-n:mu_guess+n], data.y[mu_guess-n:mu_guess+n], linestyle=\"\", marker=\"*\")\n",
    "plt.plot(data.x[mu_guess-n:mu_guess+n], gauss.value(data.x)[mu_guess-n:mu_guess+n])\n",
    "plt.show()\n",
    "\n",
    "Area = np.sqrt(2*np.pi)*gauss.A*np.abs(gauss.sigma)\n",
    "print('Area of peak is: ', Area)"
   ]
  },
  {
   "cell_type": "markdown",
   "metadata": {},
   "source": [
    "----------------------------------------------------------------------------------------------------------"
   ]
  },
  {
   "cell_type": "markdown",
   "metadata": {},
   "source": [
    "# Co-60 source "
   ]
  },
  {
   "cell_type": "markdown",
   "metadata": {},
   "source": [
    "Load spectra measured by HPGe and NaI(Tl) detectors: "
   ]
  },
  {
   "cell_type": "code",
   "execution_count": null,
   "metadata": {},
   "outputs": [],
   "source": [
    "# Co60_HPGe = MCA.load_spectrum(#insert path of the file here)\n",
    "# Co60_NaI = MCA.load_spectrum(#insert path of the file here)"
   ]
  },
  {
   "cell_type": "code",
   "execution_count": null,
   "metadata": {},
   "outputs": [],
   "source": [
    "Co60_HPGe = MCA.load_spectrum(\"resources/Germanium/Co-60.Spe\")\n",
    "Co60_NaI = MCA.load_spectrum(\"resources/NaI/Co-60.Spe\")"
   ]
  },
  {
   "cell_type": "markdown",
   "metadata": {},
   "source": [
    "### Plotting Co-60 spectra "
   ]
  },
  {
   "cell_type": "code",
   "execution_count": null,
   "metadata": {},
   "outputs": [],
   "source": [
    "# Plot of Co-60 obtained by NaI \n",
    "plt.figure()\n",
    "plt.plot(Co60_NaI.x, Co60_NaI.y) # plot data \n",
    "plt.title(\"Co-60 spectrum measured by NaI(Tl) detector\")\n",
    "plt.xlabel(\"Channels\")\n",
    "plt.ylabel(\"Counts\")\n",
    "plt.show()"
   ]
  },
  {
   "cell_type": "code",
   "execution_count": null,
   "metadata": {},
   "outputs": [],
   "source": [
    "# Plot of Co-60 obtained by HPGe \n",
    "plt.figure()\n",
    "plt.plot(Co60_HPGe.x, Co60_HPGe.y) # plot data \n",
    "plt.title(\"Co-60 spectrum measured by HPGe detector\")\n",
    "plt.xlabel(\"Channels\")\n",
    "plt.ylabel(\"Counts\")\n",
    "plt.show()\n"
   ]
  },
  {
   "cell_type": "markdown",
   "metadata": {},
   "source": [
    "Think about following question: \n",
    "- Where are the full energy peaks on the spectra and what do they represent?\n",
    "- How can we calibrate our detectors? "
   ]
  },
  {
   "cell_type": "markdown",
   "metadata": {},
   "source": [
    "### Calculating peak centroids and full width at half maximum"
   ]
  },
  {
   "cell_type": "markdown",
   "metadata": {},
   "source": [
    "Calculate the peak centroids and full width at half maximum (FWHM) by the means of a Gaussian fit for Co-60 peaks for two detectors. "
   ]
  },
  {
   "cell_type": "markdown",
   "metadata": {},
   "source": [
    "Here is the code to fit one peak of Co-60 source for NaI(Tl) detector: "
   ]
  },
  {
   "cell_type": "code",
   "execution_count": null,
   "metadata": {},
   "outputs": [],
   "source": [
    "# mu_guess - initial guess for the peak centroid. You can find it from the plot of Co-60 spectrum\n",
    "mu_guess = 825\n",
    "\n",
    "# specify x and y values \n",
    "x = Co60_NaI.x\n",
    "y = Co60_NaI.y\n",
    "\n",
    "A_guess = data.y[mu_guess]\n",
    "sigma_guess = 1\n",
    "n = 50 #number of points on each side to include in fit\n",
    "\n",
    "# Perform a Gaussian fit\n",
    "Co60_NaI_peak1 = fithelpers.fit_gaussian_at_idx(x, y, mu_guess, npoints=n)\n",
    "\n",
    "print(\"Estimates of (A mu sigma) = (\", Co60_NaI_peak1.A, Co60_NaI_peak1.mu, Co60_NaI_peak1.sigma, \")\\n\")\n",
    "\n",
    "print(\"Covariance matrix = \\n\", Co60_NaI_peak1.covar_matrix, \"\\n\")\n",
    "\n",
    "print(\"Uncertainties in the estimated parameters: \\n[ sigma^2(A) sigma^2(mu), sigma^2(sigma) ] = \\n[\", Co60_NaI_peak1.covar_matrix[0][0], Co60_NaI_peak1.covar_matrix[1][1], Co60_NaI_peak1.covar_matrix[2][2], \"]\" )\n",
    "\n",
    "plt.figure()\n",
    "plt.plot(x[mu_guess-n:mu_guess+n], y[mu_guess-n:mu_guess+n], linestyle=\"\", marker=\"*\")\n",
    "plt.plot(x[mu_guess-n:mu_guess+n], Co60_NaI_peak1.value(x)[mu_guess-n:mu_guess+n])\n",
    "plt.show()\n",
    "\n",
    "\n",
    "Area = np.sqrt(2*np.pi)*Co60_NaI_peak1.A*np.abs(Co60_NaI_peak1.sigma)\n",
    "print('Area of peak is: ', Area)"
   ]
  },
  {
   "cell_type": "markdown",
   "metadata": {},
   "source": [
    "Now find a Gaussian fit for the second Co-60 peak for the NaI(Tl) detector: "
   ]
  },
  {
   "cell_type": "code",
   "execution_count": null,
   "metadata": {},
   "outputs": [],
   "source": [
    "# insert your code here .... \n",
    "# Co60_NaI_peak2 ="
   ]
  },
  {
   "cell_type": "code",
   "execution_count": null,
   "metadata": {},
   "outputs": [],
   "source": [
    "# mu_guess - initial guess for the peak centroid. You can find it from the plot of Co-60 spectrum\n",
    "mu_guess = 941\n",
    "\n",
    "# specify x and y values \n",
    "x = Co60_NaI.x\n",
    "y = Co60_NaI.y\n",
    "\n",
    "A_guess = data.y[mu_guess]\n",
    "sigma_guess = 1\n",
    "n = 50 #number of points on each side to include in fit\n",
    "\n",
    "# Perform a Gaussian fit\n",
    "Co60_NaI_peak2 = fithelpers.fit_gaussian_at_idx(x, y, mu_guess, npoints=n)\n",
    "\n",
    "print(\"Estimates of (A mu sigma) = (\", Co60_NaI_peak2.A, Co60_NaI_peak2.mu, Co60_NaI_peak2.sigma, \")\\n\")\n",
    "\n",
    "print(\"Covariance matrix = \\n\", Co60_NaI_peak2.covar_matrix, \"\\n\")\n",
    "\n",
    "print(\"Uncertainties in the estimated parameters: \\n[ sigma^2(A) sigma^2(mu), sigma^2(sigma) ] = \\n[\", Co60_NaI_peak2.covar_matrix[0][0], Co60_NaI_peak2.covar_matrix[1][1], Co60_NaI_peak2.covar_matrix[2][2], \"]\" )\n",
    "\n",
    "plt.figure()\n",
    "plt.plot(x[mu_guess-n:mu_guess+n], y[mu_guess-n:mu_guess+n], linestyle=\"\", marker=\"*\")\n",
    "plt.plot(x[mu_guess-n:mu_guess+n], Co60_NaI_peak2.value(x)[mu_guess-n:mu_guess+n])\n",
    "plt.show()\n",
    "\n",
    "\n",
    "Area = np.sqrt(2*np.pi)*Co60_NaI_peak2.A*np.abs(Co60_NaI_peak2.sigma)\n",
    "print('Area of peak is: ', Area)"
   ]
  },
  {
   "cell_type": "markdown",
   "metadata": {},
   "source": [
    "And finally Gaussian fits for Co-60 peaks obtained from HPGe detector: "
   ]
  },
  {
   "cell_type": "code",
   "execution_count": null,
   "metadata": {},
   "outputs": [],
   "source": [
    "# insert your code here .... \n",
    "# Co60_HPGe_peak1 ="
   ]
  },
  {
   "cell_type": "code",
   "execution_count": null,
   "metadata": {},
   "outputs": [],
   "source": [
    "# insert your code here .... \n",
    "# Co60_HPGe_peak2 ="
   ]
  },
  {
   "cell_type": "markdown",
   "metadata": {},
   "source": [
    "##  Energy calibration of NaI(Tl) and HPGe detectors <a name=\"line\"></a>\n",
    "\n",
    "Recall that the energy calibration is the linear dependence between the ADC channel number and energies of full-energy peaks of a spectrum. It should be performed with a linear regression. Therefore, the idea behind it can be expressed as: \n",
    "\n",
    "\\begin{equation*}\n",
    "Energy = k \\cdot channel + m  \n",
    "\\end{equation*}\n",
    "\n",
    "where $Energy$ is characteristic $\\gamma$-ray energy for a source and can be found from the KF6-RadionuclideTable-Gamma.pdf, $channel$ is a channel number that corresponds to a peak centroid of uncalibrated spectrum, $k$ and $m$ are calibration constants. "
   ]
  },
  {
   "cell_type": "markdown",
   "metadata": {},
   "source": [
    "From KF6-RadionuclideTable-Gamma.pdf or https://www.nndc.bnl.gov/nudat2/dec_searchi.jsp find energies(with uncertanties) of two characteristic gamma-rays for Co-60 source: "
   ]
  },
  {
   "cell_type": "code",
   "execution_count": null,
   "metadata": {},
   "outputs": [],
   "source": [
    "Energy_Co60 = np.asarray([1173.228, 1332.492])\n",
    "Energy_Co60_sigma = np.asarray([0.003, 0.004])"
   ]
  },
  {
   "cell_type": "code",
   "execution_count": null,
   "metadata": {},
   "outputs": [],
   "source": [
    "# Insert your values below\n",
    "# Energy_Co60 = [###, ###]\n",
    "# Energy_Co60_sigma = [###, ###]"
   ]
  },
  {
   "cell_type": "markdown",
   "metadata": {},
   "source": [
    "Prepare values of channel numbers from the Gaussian fit you did in the previous step: "
   ]
  },
  {
   "cell_type": "code",
   "execution_count": null,
   "metadata": {},
   "outputs": [],
   "source": [
    "# # Insert your values below\n",
    "# mu_Co60_NaI = [###, ###]"
   ]
  },
  {
   "cell_type": "code",
   "execution_count": null,
   "metadata": {},
   "outputs": [],
   "source": [
    "mu_Co60_NaI = np.asarray([Co60_NaI_peak1.mu, Co60_NaI_peak2.mu])"
   ]
  },
  {
   "cell_type": "markdown",
   "metadata": {},
   "source": [
    "Find calibration constants for NaI(Tl) detector: "
   ]
  },
  {
   "cell_type": "code",
   "execution_count": null,
   "metadata": {},
   "outputs": [],
   "source": [
    "# Define the linear function which you want to fit.\n",
    "def LineFunc(x, k, m):\n",
    "    return k*x+m\n",
    "\n",
    "# As for the Gaussian fit the function curve_fit needs a guess for the parameters to be estimated.\n",
    "guess = [2, 1]\n",
    "\n",
    "# Perform the fit\n",
    "estimates_NaI, covar_matrix = curve_fit(LineFunc,\n",
    "                                    mu_Co60_NaI,\n",
    "                                    Energy_Co60,\n",
    "                                    p0 = guess,\n",
    "                                    sigma = Energy_Co60_sigma)\n",
    "\n",
    "print(\"Estimates of (k m) = (\", estimates_NaI[0], estimates_NaI[1], \")\\n\")\n",
    "\n",
    "# plot the result\n",
    "plt.figure()\n",
    "plt.plot(mu_Co60_NaI, Energy_Co60, linestyle=\"\", marker=\"*\")\n",
    "plt.plot(mu_Co60_NaI, LineFunc(mu_Co60_NaI, estimates_NaI[0], estimates_NaI[1]))\n",
    "plt.show()"
   ]
  },
  {
   "cell_type": "code",
   "execution_count": null,
   "metadata": {},
   "outputs": [],
   "source": [
    "### insert your code here "
   ]
  },
  {
   "cell_type": "markdown",
   "metadata": {},
   "source": [
    "Repeat the same procedure and find calibration constants for HPGe detector: "
   ]
  },
  {
   "cell_type": "code",
   "execution_count": null,
   "metadata": {},
   "outputs": [],
   "source": [
    "# # Insert your values below\n",
    "# mu_Co60_HPGe = [###, ###]"
   ]
  },
  {
   "cell_type": "code",
   "execution_count": null,
   "metadata": {},
   "outputs": [],
   "source": [
    "### insert your code "
   ]
  },
  {
   "cell_type": "markdown",
   "metadata": {},
   "source": [
    "## Plot calibrated spectra "
   ]
  },
  {
   "cell_type": "markdown",
   "metadata": {},
   "source": [
    "Present plots of calibrated spectra for Co-60 from HPGe and NaI(Tl) detectors. Do not forget to add proper title, x and y axis labels to the plot. "
   ]
  },
  {
   "cell_type": "code",
   "execution_count": null,
   "metadata": {},
   "outputs": [],
   "source": [
    "### insert your code here"
   ]
  },
  {
   "cell_type": "code",
   "execution_count": null,
   "metadata": {},
   "outputs": [],
   "source": [
    "### insert your code here "
   ]
  },
  {
   "cell_type": "markdown",
   "metadata": {},
   "source": [
    "## Statistical analysis - Error propagation<a name=\"stat\"></a>\n",
    "\n",
    "Background theory and instructions on how to perform statistical analysis on\n",
    "experimental data, with error propagation, can be found in the document\n",
    "http://www.fysik.lu.se/fileadmin/fysikportalen/UDIF/Bilder/FYSA31_KF_error.pdf, but of course also easily through a google search."
   ]
  },
  {
   "cell_type": "markdown",
   "metadata": {},
   "source": [
    "----------------------------------------------------------------------------------------------------------"
   ]
  },
  {
   "cell_type": "markdown",
   "metadata": {},
   "source": [
    "# Cs-137 source "
   ]
  },
  {
   "cell_type": "markdown",
   "metadata": {},
   "source": [
    "## Internal conversion coefficient $\\alpha$"
   ]
  },
  {
   "cell_type": "markdown",
   "metadata": {},
   "source": [
    "Determine the internal conversion coefficient ($\\alpha$) for $^{137}$Ba from the measured peak intensities of the $^{137}$Cs source, i.e. the area of the peaks, of the HPGe semiconductor spectrum. Do not forget to correct for efficiency (use the following: $\\varepsilon_{eff} \\cdot \\varepsilon_{P/T} = 0.9$ and 0.3 at x-ray energies and at 662 keV, respectively), the emission of Auger electrons (see Table T1 in the ``KF6-Attachments.pdf``) and the error analysis. Compare the obtained value with literature and discuss."
   ]
  },
  {
   "cell_type": "markdown",
   "metadata": {},
   "source": [
    "Internal conversion coefficient: \n",
    "\\begin{equation*}\n",
    "\\alpha = \\frac{\\lambda_{IC}}{\\lambda_\\gamma} = \\frac{I_{0}(x-rays)}{I_0(662keV)}\n",
    "\\end{equation*}\n",
    "\n",
    "where $I_{0}(x-rays)$ and $I_0(662keV)$ are areas of the peaks  <br> \n",
    "<br> "
   ]
  },
  {
   "cell_type": "code",
   "execution_count": null,
   "metadata": {},
   "outputs": [],
   "source": [
    "# Cs-137 source "
   ]
  },
  {
   "cell_type": "markdown",
   "metadata": {},
   "source": [
    "Load the Cs-137 data from HPGe detector: "
   ]
  },
  {
   "cell_type": "code",
   "execution_count": null,
   "metadata": {},
   "outputs": [],
   "source": [
    "## Cs137_HPGe = "
   ]
  },
  {
   "cell_type": "code",
   "execution_count": null,
   "metadata": {},
   "outputs": [],
   "source": [
    "Cs137_HPGe = MCA.load_spectrum(\"resources/Germanium/Cs-137.Spe\")"
   ]
  },
  {
   "cell_type": "markdown",
   "metadata": {},
   "source": [
    "Plot the spectrum: "
   ]
  },
  {
   "cell_type": "code",
   "execution_count": null,
   "metadata": {},
   "outputs": [],
   "source": [
    "## your code goes here "
   ]
  },
  {
   "cell_type": "code",
   "execution_count": null,
   "metadata": {},
   "outputs": [],
   "source": [
    "# Plot of Co-60 obtained by HPGe \n",
    "plt.figure()\n",
    "plt.plot(Cs137_HPGe.x, Cs137_HPGe.y) # plot data \n",
    "plt.title(\"Cs-137 spectrum measured by HPGe detector\")\n",
    "plt.xlabel(\"Channels\")\n",
    "plt.ylabel(\"Counts\")\n",
    "plt.show()\n"
   ]
  },
  {
   "cell_type": "markdown",
   "metadata": {},
   "source": [
    "Find intensities of x- rays peaks and 662 keV peak: "
   ]
  },
  {
   "cell_type": "markdown",
   "metadata": {},
   "source": [
    "----------------------------------------------------------------------------------------------------------"
   ]
  },
  {
   "cell_type": "markdown",
   "metadata": {},
   "source": [
    "# Na-22 source "
   ]
  },
  {
   "cell_type": "markdown",
   "metadata": {},
   "source": [
    "## Ratio between 1273 keV peak and photons emitted due to annihilation "
   ]
  },
  {
   "cell_type": "markdown",
   "metadata": {},
   "source": [
    "Determine the ratio between the emitted 1273 keV $\\gamma$ rays and the photons emitted from the annihilation of the $\\beta^+$ decay of $^{22}$Na. Do this from the measured peak intensities of the NaI(Tl) scintillator spectrum. Correct the obtained values for efficiency."
   ]
  },
  {
   "cell_type": "markdown",
   "metadata": {},
   "source": [
    "----------------------------------------------------------------------------------------------------------"
   ]
  },
  {
   "cell_type": "markdown",
   "metadata": {},
   "source": [
    "# Cf-252 source "
   ]
  },
  {
   "cell_type": "markdown",
   "metadata": {},
   "source": [
    "## Binding energy of the deuteron "
   ]
  },
  {
   "cell_type": "markdown",
   "metadata": {},
   "source": [
    "You finally learned the features of gamma spectroscopy with interactions and detection properties. Let's use them to measure deuteron binding energy. "
   ]
  },
  {
   "cell_type": "markdown",
   "metadata": {},
   "source": [
    " - What is the binding energy? How can it be calculated theoretically? "
   ]
  },
  {
   "cell_type": "code",
   "execution_count": null,
   "metadata": {},
   "outputs": [],
   "source": []
  },
  {
   "cell_type": "markdown",
   "metadata": {},
   "source": [
    "- What is needed to create the deuteron in improvised experiment? Finilize the reaction: "
   ]
  },
  {
   "cell_type": "markdown",
   "metadata": {},
   "source": [
    "\\begin{equation*}\n",
    "? + ? = ^{2}_{1}H_{1} + ?\n",
    "\\end{equation*}\n"
   ]
  },
  {
   "cell_type": "markdown",
   "metadata": {},
   "source": [
    "From the measurement of the $^{252}$Cf source (surrounded by water) with the HPGe detector determine the binding energy of the deuteron. Compare the obtained value with literature and discuss. "
   ]
  },
  {
   "cell_type": "code",
   "execution_count": null,
   "metadata": {},
   "outputs": [],
   "source": [
    "# Your code goes here ... "
   ]
  },
  {
   "cell_type": "markdown",
   "metadata": {},
   "source": [
    "# FWHM and a $\\gamma$-ray energy   "
   ]
  },
  {
   "cell_type": "markdown",
   "metadata": {},
   "source": [
    "Plot the FWHM as a function of a $\\gamma$-ray energy for the peaks from Na-22, Co-60 and Cs-137 spectra. "
   ]
  },
  {
   "cell_type": "code",
   "execution_count": null,
   "metadata": {},
   "outputs": [],
   "source": [
    "# Your code goes here ... "
   ]
  },
  {
   "cell_type": "markdown",
   "metadata": {},
   "source": [
    "Discuss why are the FWHM values of the HPGe detector lower than for the NaI(Tl)?"
   ]
  },
  {
   "cell_type": "markdown",
   "metadata": {},
   "source": []
  },
  {
   "cell_type": "markdown",
   "metadata": {},
   "source": [
    "What kind of relationship exists between the FWHM and the $\\gamma$-ray energy? Refer to the book to motivate your answer. Present your results in a form of a plot with a fit of the function that represents the relationship between the FWHM and the $\\gamma$-ray energy. Do not forget to include errors to the plot.  "
   ]
  },
  {
   "cell_type": "code",
   "execution_count": null,
   "metadata": {},
   "outputs": [],
   "source": [
    "# Your code goes here ... "
   ]
  },
  {
   "cell_type": "markdown",
   "metadata": {},
   "source": [
    "Finilize the comparison of HPGe and NaI detector properties: "
   ]
  },
  {
   "cell_type": "code",
   "execution_count": null,
   "metadata": {},
   "outputs": [],
   "source": []
  },
  {
   "cell_type": "markdown",
   "metadata": {},
   "source": [
    "----------------------------------------------------------------------------------------------------------"
   ]
  },
  {
   "cell_type": "markdown",
   "metadata": {},
   "source": [
    "# Analysis of background radiation "
   ]
  },
  {
   "cell_type": "markdown",
   "metadata": {},
   "source": [
    "The background spectrum that is to be analysed as a part of the lab is named\n",
    "`background_analysis.csv` and can be found in the current folder. This spectrum\n",
    "has been taken by a HPGe detector and is already calibrated. Read this\n",
    "spectrum with the `help_code` with:"
   ]
  },
  {
   "cell_type": "code",
   "execution_count": null,
   "metadata": {},
   "outputs": [],
   "source": [
    "background_data = MCA.load_calibrated_spectrum(\"Background.txt\")"
   ]
  },
  {
   "cell_type": "markdown",
   "metadata": {},
   "source": [
    "Your task is to determine the energies of $\\gamma$-rays from this background measurement and try to associate them with an isotope. Use either KF6-RadionuclideTable-Gamma.pdf) or an internet database [https://www-nds.iaea.org/xgamma_standards/](https://www-nds.iaea.org/xgamma_standards/). Present your result in a form of a table with isotopes and their $\\gamma$-ray energies. Comment on the origin of the background radiation. "
   ]
  },
  {
   "cell_type": "code",
   "execution_count": 4,
   "metadata": {},
   "outputs": [],
   "source": [
    "# Plot the background spectrum and look at the peaks.\n",
    "# The simpliest way to find the peaks would be zooming on the spectrum \n",
    "\n",
    "\n"
   ]
  },
  {
   "cell_type": "markdown",
   "metadata": {},
   "source": [
    "----------------------------------------------------------------------------------------------------------"
   ]
  }
 ],
 "metadata": {
  "hide_input": false,
  "kernelspec": {
   "display_name": "Python 3",
   "language": "python",
   "name": "python3"
  },
  "language_info": {
   "codemirror_mode": {
    "name": "ipython",
    "version": 3
   },
   "file_extension": ".py",
   "mimetype": "text/x-python",
   "name": "python",
   "nbconvert_exporter": "python",
   "pygments_lexer": "ipython3",
   "version": "3.8.0"
  },
  "latex_envs": {
   "LaTeX_envs_menu_present": true,
   "autoclose": false,
   "autocomplete": true,
   "bibliofile": "biblio.bib",
   "cite_by": "apalike",
   "current_citInitial": 1,
   "eqLabelWithNumbers": true,
   "eqNumInitial": 1,
   "hotkeys": {
    "equation": "Ctrl-E",
    "itemize": "Ctrl-I"
   },
   "labels_anchors": false,
   "latex_user_defs": false,
   "report_style_numbering": false,
   "user_envs_cfg": false
  },
  "toc": {
   "base_numbering": 1,
   "nav_menu": {},
   "number_sections": true,
   "sideBar": true,
   "skip_h1_title": false,
   "title_cell": "Table of Contents",
   "title_sidebar": "Contents",
   "toc_cell": false,
   "toc_position": {},
   "toc_section_display": true,
   "toc_window_display": false
  }
 },
 "nbformat": 4,
 "nbformat_minor": 2
}
