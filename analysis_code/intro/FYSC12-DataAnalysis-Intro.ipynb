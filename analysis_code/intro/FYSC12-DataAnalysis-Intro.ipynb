{
 "cells": [
  {
   "cell_type": "markdown",
   "metadata": {},
   "source": [
    "# Data analysis - Introduction for Gamma Spectroscopy\n",
    "\n",
    "## Table of Content\n",
    "\n",
    "* [About this Notebook](#about)\n",
    "\n",
    "\n",
    "* [Read experimental data from file](#read)\n",
    "    * [HelpCode](#help1)\n",
    "    * [Read the calibrated background spectrum](#backg)\n",
    "    * [Plotting the data](#plot)\n",
    "\n",
    "\n",
    "* [Fit of data](#fit)\n",
    "    * [Fitting Gaussians](#gaussian)\n",
    "    * [Calculate Peak Area](#peak_area)\n",
    "    * [Fit a line](#line)\n",
    "\n",
    "\n",
    "* [Statistical analysis](#stat)\n",
    "\n",
    "## About this Notebook <a name=\"about\"></a>\n",
    "\n",
    "The purpose of this _jupyter_ notebook is to introduce data analysis in the\n",
    "frame of gamma spectroscopy. The example programming language is _Python3_, but\n",
    "of course most coding languages can do the job properly. If you have never\n",
    "programmed before there are so many great tutorials available across the web.\n",
    "There even exist plenty _Open Online Courses_, e.g.\n",
    "https://www.coursera.org/learn/python. Please have a look around for the one\n",
    "that you like the best. However, note that you do not need to be an expert in\n",
    "Python to pass the lab.\n",
    "\n",
    "The data analysis can roughly be divided into four steps:\n",
    "1. Read experimental data from file.\n",
    "2. Fit Gaussians to peaks.\n",
    "3. Calibrate the detector response.\n",
    "4. Perform a statistical analysis (e.g. error propagation) and present results.\n",
    "\n",
    "A dedicated python library, i.e. a folder with already written code, located in\n",
    "`HelpCode`, have been implemented for the data analysis connected to the labs in\n",
    "FYSC12 Nuclear Physics. The folder comprises functions that support 1-3 of the\n",
    "above-mentioned steps.\n",
    "\n",
    "Full Python3 coding examples of how to perform the different steps of the data\n",
    "analysis is given below. Every example is finished with a template of how the\n",
    "`HelpCode`-folder can be used to perform the same calculations.\n",
    "\n",
    "**NOTE**: It is strongly recommended that you program your own functions instead\n",
    "of using the framework directly out of the book. As you will find out, there\n",
    "will come a point where the framework functionalities are not to your\n",
    "satisfaction, and then you need to code yourself. So, better get used to it\n",
    "right away :)\n",
    "\n",
    "## Read experimental data from file <a name=\"read\"></a>\n",
    "\n",
    "The following code segment exemplifies how to read in an experimental data file\n",
    "into a list container. For an introduction on how to read and write files see\n",
    "e.g. http://www.pythonforbeginners.com/files/reading-and-writing-files-in-\n",
    "python."
   ]
  },
  {
   "cell_type": "markdown",
   "metadata": {},
   "source": [
    "Inserting parent directory to the path such that the analysis code in `fithelpers.py`, `histhelpers.py` and `MCA.py` can be found by `python`."
   ]
  },
  {
   "cell_type": "code",
   "execution_count": 1,
   "metadata": {},
   "outputs": [],
   "source": [
    "import sys, os\n",
    "sys.path.insert(1, os.path.join(sys.path[0], '..'))\n",
    "import numpy as np\n",
    "import fithelpers, histhelpers, MCA"
   ]
  },
  {
   "cell_type": "code",
   "execution_count": 2,
   "metadata": {
    "attributes": {
     "classes": [],
     "id": "",
     "n": "1"
    }
   },
   "outputs": [
    {
     "name": "stdout",
     "output_type": "stream",
     "text": [
      "Should read: 8192 lines. And read: 8192\n"
     ]
    }
   ],
   "source": [
    "array_of_data = list()\n",
    "read_lines = 0\n",
    "total_data = 0\n",
    "start_read = False\n",
    "with open(\"test_data.Spe\") as file:\n",
    "    for j, line in enumerate(file):\n",
    "        #if j < 100:\n",
    "            #print(line.split())\n",
    "        if line.split()[0] == '$DATA:':\n",
    "            #print(line.split())\n",
    "            start_read = True\n",
    "        elif start_read and read_lines == 0:\n",
    "            #print(line.split())\n",
    "            total_data = int(line.split()[1])+1\n",
    "            #print(total_data)\n",
    "            read_lines = read_lines + 1\n",
    "            continue\n",
    "        elif start_read and line.split()[0] != '$ROI:':\n",
    "            #print(line.split())\n",
    "            array_of_data.append(int(line.split()[0]))\n",
    "        elif start_read:\n",
    "            break\n",
    "        \n",
    "print(\"Should read:\", total_data, \"lines. And read:\", len(array_of_data))\n",
    "        "
   ]
  },
  {
   "cell_type": "markdown",
   "metadata": {},
   "source": [
    "### Analysis Code <a name=\"help1\"></a>\n",
    "\n",
    "With the `analysis_code` it is possible to perform conceptually the same operations\n",
    "through:"
   ]
  },
  {
   "cell_type": "code",
   "execution_count": 3,
   "metadata": {
    "attributes": {
     "classes": [],
     "id": "",
     "n": "2"
    }
   },
   "outputs": [],
   "source": [
    "data = MCA.load_spectrum(\"test_data.Spe\")"
   ]
  },
  {
   "cell_type": "markdown",
   "metadata": {},
   "source": [
    "### Read the calibrated background spectrum <a name=\"backg\"></a>\n",
    "\n",
    "The background spectrum that is to be analysed as a part of the lab is named\n",
    "`background_analysis.csv` and can be found in the current folder. This spectrum\n",
    "has been measured with another detector and is already calibrated. Read this\n",
    "spectrum with the `help_code` with:"
   ]
  },
  {
   "cell_type": "code",
   "execution_count": 4,
   "metadata": {
    "attributes": {
     "classes": [],
     "id": "",
     "n": "3"
    }
   },
   "outputs": [],
   "source": [
    "background_data = MCA.load_calibrated_spectrum(\"Background.txt\")"
   ]
  },
  {
   "cell_type": "markdown",
   "metadata": {},
   "source": [
    "### Plotting the data <a name=\"plot\"></a>\n",
    "\n",
    "It is always good to visualise your data. This is how you can plot and visualise\n",
    "it in Python3."
   ]
  },
  {
   "cell_type": "code",
   "execution_count": 5,
   "metadata": {
    "attributes": {
     "classes": [],
     "id": "",
     "n": "4"
    }
   },
   "outputs": [],
   "source": [
    "import matplotlib\n",
    "# choose a backend for web applications; remove for stand-alone applications:\n",
    "matplotlib.use('Agg')\n",
    "# enable interactive notebook plots (\n",
    "# alternative: use 'inline' instead of 'notebook' for static images)\n",
    "%matplotlib widget\n",
    "\n",
    "#The following line is the ONLY one needed in stand-alone applications!\n",
    "import matplotlib.pyplot as plt\n",
    "#from bqplot import pyplot as plt"
   ]
  },
  {
   "cell_type": "code",
   "execution_count": 6,
   "metadata": {
    "attributes": {
     "classes": [],
     "id": "",
     "n": "5"
    }
   },
   "outputs": [
    {
     "data": {
      "application/vnd.jupyter.widget-view+json": {
       "model_id": "bda010deadde4e5293e3abc3a0468ecc",
       "version_major": 2,
       "version_minor": 0
      },
      "text/plain": [
       "FigureCanvasNbAgg()"
      ]
     },
     "metadata": {},
     "output_type": "display_data"
    },
    {
     "data": {
      "text/plain": [
       "[<matplotlib.lines.Line2D at 0x7fd78f1d9518>]"
      ]
     },
     "execution_count": 6,
     "metadata": {},
     "output_type": "execute_result"
    }
   ],
   "source": [
    "plt.figure()\n",
    "# with the data read in with the first routine\n",
    "plt.plot(array_of_data)\n",
    "# or with the help_code variable \"data\"\n",
    "#plt.plot(background_data.x, background_data.y)\n",
    "\n",
    "#plt.savefig(\"test_spectrum.png\") #This is how you save the figure\n",
    "#plt.show()\n",
    "axis = plt.gca()\n",
    "axis.plot(array_of_data)\n",
    "\n",
    "## Could be useful to see this in log scale..?\n",
    "#plt.yscale('log')\n",
    "#plt.ylim(ymin=1)"
   ]
  },
  {
   "cell_type": "markdown",
   "metadata": {},
   "source": [
    "## Fit of data <a name=\"fit\"></a>\n",
    "\n",
    "Fitting functions can be made simply with the `scipy.optimize` module. The\n",
    "function `curve_fit` does the job for you and the [documentation](https://docs.s\n",
    "cipy.org/doc/scipy/reference/generated/scipy.optimize.curve_fit.html) contains\n",
    "all the valuable information on how to use the function. It uses a method called\n",
    "least squares which you can read about in most course literature on statistics\n",
    "and for instance on [Wolfram\n",
    "Alpha](http://mathworld.wolfram.com/LeastSquaresFitting.html).\n",
    "\n",
    "### Fitting Gaussian <a name=\"gaussian\"></a>\n",
    "\n",
    "Read up on the Gaussian function here: [https://en.wikipedia.org/wiki/Gaussian_function](https://en.wikipedia.org/wiki/Gaussian_function)\n",
    "\n",
    "The following code shows how to use the function `curve_fit` to fit a peak in\n",
    "the data that was read in above (i.e. you will need to execute the above code\n",
    "section before this section will work)."
   ]
  },
  {
   "cell_type": "code",
   "execution_count": 7,
   "metadata": {
    "attributes": {
     "classes": [],
     "id": "",
     "n": "6"
    }
   },
   "outputs": [
    {
     "name": "stdout",
     "output_type": "stream",
     "text": [
      "Estimates of (A mu sigma) = ( 1701.437969921561 3300.173963396903 2.690782635538004 )\n",
      "\n",
      "Covariance matrix = \n",
      " [[ 2.22927047e+02  4.29594398e-06 -2.35037636e-01]\n",
      " [ 4.29594398e-06  7.43418433e-04 -6.79408923e-09]\n",
      " [-2.35037636e-01 -6.79408923e-09  7.43418426e-04]] \n",
      "\n",
      "Uncertainties in the estimated parameters: \n",
      "[ sigma^2(A) sigma^2(mu), sigma^2(sigma) ] = \n",
      "[ 222.92704699299128 0.0007434184333430844 0.0007434184263502241 ]\n"
     ]
    },
    {
     "data": {
      "application/vnd.jupyter.widget-view+json": {
       "model_id": "48ba56f76ee84b6397781fa22c4e5c55",
       "version_major": 2,
       "version_minor": 0
      },
      "text/plain": [
       "FigureCanvasNbAgg()"
      ]
     },
     "metadata": {},
     "output_type": "display_data"
    },
    {
     "data": {
      "text/plain": [
       "[<matplotlib.lines.Line2D at 0x7fd78f173cf8>]"
      ]
     },
     "execution_count": 7,
     "metadata": {},
     "output_type": "execute_result"
    }
   ],
   "source": [
    "from scipy.optimize import curve_fit\n",
    "\n",
    "def GaussFunc(x, A, mu, sigma):\n",
    "    return A*np.exp(-(x-mu)**2/(2.*sigma**2))\n",
    "\n",
    "#mu = np.asarray([3300, 3750])\n",
    "#E = np.asarray([1173.2, 1332.5])\n",
    "mu_guess = 3300\n",
    "A_guess = array_of_data[mu_guess]\n",
    "sigma_guess = 1\n",
    "guess = [A_guess, mu_guess, sigma_guess]\n",
    "n = 50 #number of points on each side to include in fit\n",
    "\n",
    "x = np.asarray(range(len(array_of_data)))\n",
    "y = np.asarray(array_of_data)\n",
    "\n",
    "estimates, covar_matrix = curve_fit(GaussFunc,\n",
    "                                    x[mu_guess-n:mu_guess+n],\n",
    "                                    y[mu_guess-n:mu_guess+n],\n",
    "                                    p0=guess)\n",
    "A, mu, sigma = estimates[0], estimates[1], estimates[2]\n",
    "print(\"Estimates of (A mu sigma) = (\", A, mu, sigma, \")\\n\")\n",
    "\n",
    "print(\"Covariance matrix = \\n\", covar_matrix, \"\\n\")\n",
    "\n",
    "print(\"Uncertainties in the estimated parameters: \\n[ sigma^2(A) sigma^2(mu), sigma^2(sigma) ] = \\n[\", covar_matrix[0][0], covar_matrix[1][1], covar_matrix[2][2], \"]\" )\n",
    "\n",
    "plt.figure()\n",
    "plt.plot(x[mu_guess-n:mu_guess+n],y[mu_guess-n:mu_guess+n], linestyle=\"\", marker=\"*\")\n",
    "plt.plot(x[mu_guess-n:mu_guess+n], GaussFunc(x[mu_guess-n:mu_guess+n], A, mu, sigma))\n"
   ]
  },
  {
   "cell_type": "markdown",
   "metadata": {},
   "source": [
    "### Calculating Peak Area <a name=\"peak_area\"></a>\n",
    "\n",
    "There are different ways in how to calculate the area of a peak in a spectrum. The by far easiest method is to calculate the area of the fitted Gaussian function (see [https://en.wikipedia.org/wiki/Gaussian_function](https://en.wikipedia.org/wiki/Gaussian_function))."
   ]
  },
  {
   "cell_type": "code",
   "execution_count": 8,
   "metadata": {
    "scrolled": true
   },
   "outputs": [
    {
     "name": "stdout",
     "output_type": "stream",
     "text": [
      "Area of peak is:  11475.844927499762\n"
     ]
    }
   ],
   "source": [
    "Area = np.sqrt(2*np.pi)*A*np.abs(sigma)\n",
    "print('Area of peak is: ', Area)"
   ]
  },
  {
   "cell_type": "markdown",
   "metadata": {},
   "source": [
    "### Analysis code\n",
    "\n",
    "With the analysis code:"
   ]
  },
  {
   "cell_type": "code",
   "execution_count": 9,
   "metadata": {
    "attributes": {
     "classes": [],
     "id": "",
     "n": "7"
    }
   },
   "outputs": [
    {
     "name": "stdout",
     "output_type": "stream",
     "text": [
      "Estimates of (A mu sigma) = ( 1701.437969921561 3300.173963396903 2.690782635538004 )\n",
      "\n",
      "Covariance matrix = \n",
      " [[ 2.22927047e+02  4.29594398e-06 -2.35037636e-01]\n",
      " [ 4.29594398e-06  7.43418433e-04 -6.79408923e-09]\n",
      " [-2.35037636e-01 -6.79408923e-09  7.43418426e-04]] \n",
      "\n",
      "Uncertainties in the estimated parameters: \n",
      "[ sigma^2(A) sigma^2(mu), sigma^2(sigma) ] = \n",
      "[ 222.92704699299128 0.0007434184333430844 0.0007434184263502241 ]\n"
     ]
    },
    {
     "data": {
      "application/vnd.jupyter.widget-view+json": {
       "model_id": "1567c7766af0483ba6e759f5b46ac7be",
       "version_major": 2,
       "version_minor": 0
      },
      "text/plain": [
       "FigureCanvasNbAgg()"
      ]
     },
     "metadata": {},
     "output_type": "display_data"
    },
    {
     "name": "stdout",
     "output_type": "stream",
     "text": [
      "Area of peak is:  11475.844927499762\n"
     ]
    }
   ],
   "source": [
    "mu_guess = 3300\n",
    "A_guess = array_of_data[mu_guess]\n",
    "sigma_guess = 1\n",
    "n = 50 #number of points on each side to include in fit\n",
    "\n",
    "gauss = fithelpers.fit_gaussian_at_idx(x, y, mu_guess, npoints=n)\n",
    "print(\"Estimates of (A mu sigma) = (\", gauss.A, gauss.mu, gauss.sigma, \")\\n\")\n",
    "\n",
    "print(\"Covariance matrix = \\n\", gauss.covar_matrix, \"\\n\")\n",
    "\n",
    "print(\"Uncertainties in the estimated parameters: \\n[ sigma^2(A) sigma^2(mu), sigma^2(sigma) ] = \\n[\", gauss.covar_matrix[0][0], gauss.covar_matrix[1][1], gauss.covar_matrix[2][2], \"]\" )\n",
    "\n",
    "plt.figure()\n",
    "plt.plot(data.x[mu_guess-n:mu_guess+n], data.y[mu_guess-n:mu_guess+n], linestyle=\"\", marker=\"*\")\n",
    "plt.plot(data.x[mu_guess-n:mu_guess+n], gauss.value(data.x)[mu_guess-n:mu_guess+n])\n",
    "\n",
    "Area = np.sqrt(2*np.pi)*gauss.A*np.abs(gauss.sigma)\n",
    "print('Area of peak is: ', Area)"
   ]
  },
  {
   "cell_type": "markdown",
   "metadata": {},
   "source": [
    "### Fit a line <a name=\"line\"></a>"
   ]
  },
  {
   "cell_type": "code",
   "execution_count": 10,
   "metadata": {},
   "outputs": [
    {
     "name": "stdout",
     "output_type": "stream",
     "text": [
      "Estimates of (k m) = ( 0.51544342764661 0.4022935634807532 )\n",
      "\n"
     ]
    },
    {
     "data": {
      "application/vnd.jupyter.widget-view+json": {
       "model_id": "7cf369114e1442fb8b8acb4b18594673",
       "version_major": 2,
       "version_minor": 0
      },
      "text/plain": [
       "FigureCanvasNbAgg()"
      ]
     },
     "metadata": {},
     "output_type": "display_data"
    },
    {
     "data": {
      "text/plain": [
       "[<matplotlib.lines.Line2D at 0x7fd78f1759e8>]"
      ]
     },
     "execution_count": 10,
     "metadata": {},
     "output_type": "execute_result"
    }
   ],
   "source": [
    "x = np.asarray([1,3,5,7])\n",
    "y = np.asarray([1.3, 2.1, 2.9, 4.2])\n",
    "#If you are more or less uncertain about your y-values this can be used in the fit by including the following line.\n",
    "sigmay = np.asarray([0.5, 0.3, 0.1, 0.2])\n",
    "\n",
    "guess = [2, 1]\n",
    "\n",
    "def LineFunc(x, k, m):\n",
    "    return k*x+m\n",
    "\n",
    "estimates, covar_matrix = curve_fit(LineFunc,\n",
    "                                    x,\n",
    "                                    y,\n",
    "                                    p0 = guess,\n",
    "                                    sigma = sigmay)\n",
    "\n",
    "print(\"Estimates of (k m) = (\", estimates[0], estimates[1], \")\\n\")\n",
    "\n",
    "plt.figure()\n",
    "plt.plot(x,y, linestyle=\"\", marker=\"*\")\n",
    "plt.plot(x, LineFunc(x, estimates[0], estimates[1]))\n"
   ]
  },
  {
   "cell_type": "markdown",
   "metadata": {},
   "source": [
    "## Statistical analysis <a name=\"stat\"></a>\n",
    "\n",
    "Background theory and instructions on how to perform statistical analysis on\n",
    "experimental data, with error propagation, can be found in the document\n",
    "http://www.fysik.lu.se/fileadmin/fysikportalen/UDIF/Bilder/FYSA31_KF_error.pdf, but of course also easily through a google search."
   ]
  }
 ],
 "metadata": {
  "kernelspec": {
   "display_name": "Python 3",
   "language": "python",
   "name": "python3"
  },
  "language_info": {
   "codemirror_mode": {
    "name": "ipython",
    "version": 3
   },
   "file_extension": ".py",
   "mimetype": "text/x-python",
   "name": "python",
   "nbconvert_exporter": "python",
   "pygments_lexer": "ipython3",
   "version": "3.6.6"
  }
 },
 "nbformat": 4,
 "nbformat_minor": 2
}
