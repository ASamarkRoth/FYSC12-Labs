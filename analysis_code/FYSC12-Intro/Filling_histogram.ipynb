{
 "cells": [
  {
   "cell_type": "code",
   "execution_count": null,
   "metadata": {},
   "outputs": [],
   "source": [
    "%matplotlib notebook  \n",
    "# instead of matplotlib inline. It turns the notebook interactive\n",
    "import matplotlib.pyplot as plt\n",
    "from matplotlib import animation          # \n",
    "from IPython.display import display, Image\n",
    "from IPython.display import HTML\n",
    "import numpy as np\n",
    "\n",
    "# Function that fits a curve to data \n",
    "from scipy.optimize import curve_fit\n",
    "\n",
    "import matplotlib.ticker as ticker"
   ]
  },
  {
   "cell_type": "code",
   "execution_count": null,
   "metadata": {},
   "outputs": [],
   "source": [
    "from IPython.core.display import display, HTML\n",
    "display(HTML(\"<style>.container { width:100% !important; }</style>\"))"
   ]
  },
  {
   "cell_type": "code",
   "execution_count": null,
   "metadata": {},
   "outputs": [],
   "source": [
    "## Test histogram"
   ]
  },
  {
   "cell_type": "markdown",
   "metadata": {},
   "source": [
    "_A histogram_ is an approximate representation of the distribution of numerical or categorical data. Read up on histograms here: [https://en.wikipedia.org/wiki/Histogram](https://en.wikipedia.org/wiki/Histogram) . \n",
    "In physics, the energy spectrum of a particle is the number of particles or intensity of a particle beam as a function of particle energy. "
   ]
  },
  {
   "cell_type": "code",
   "execution_count": null,
   "metadata": {},
   "outputs": [],
   "source": [
    "bin_edges = np.array([0, 1, 2, 3, 4, 5])\n",
    "bin_centers = np.array([0.5, 1.5, 2.5, 3.5, 4.5])\n",
    "y = [10, 11, 5, 4, 15]\n",
    "\n",
    "\n",
    "plt.figure()\n",
    "plt.step(bin_centers, y, where='mid')\n",
    "\n",
    "plt.title(\"Test histogram\")\n",
    "plt.xlabel(\"Channels\")\n",
    "plt.ylabel(\"Counts\")\n",
    "plt.xlim([0, 5])\n"
   ]
  },
  {
   "cell_type": "markdown",
   "metadata": {},
   "source": [
    "## Detector read out "
   ]
  },
  {
   "cell_type": "markdown",
   "metadata": {},
   "source": [
    "Generating data for detector read out chain:"
   ]
  },
  {
   "cell_type": "code",
   "execution_count": null,
   "metadata": {},
   "outputs": [],
   "source": [
    "N = 20"
   ]
  },
  {
   "cell_type": "markdown",
   "metadata": {},
   "source": [
    "Preamplifier:"
   ]
  },
  {
   "cell_type": "code",
   "execution_count": null,
   "metadata": {},
   "outputs": [],
   "source": [
    "V_preamp = np.random.uniform(low=0.5, high=8, size=(N))\n",
    "\n",
    "t_rising = 5\n",
    "pream_t1 = np.linspace(0, t_rising, num=10)\n",
    "pream_t2 = np.linspace(0, 100, num=100)\n",
    "\n",
    "pream_t = np.concatenate([pream_t1, pream_t2+t_rising])\n",
    "#print(pream_t.size)\n",
    "\n",
    "def LinearFunc(x, k, m):\n",
    "    return k*x + m\n",
    "\n",
    "def ExpFunc(x, a, b):\n",
    "    return a* np.exp(-x/30)\n",
    "\n",
    "\n",
    "pream_y1 = np.zeros((N, pream_t1.size))\n",
    "pream_y2 = np.zeros((N, pream_t2.size))\n",
    "\n",
    "for i, V in enumerate(V_preamp):\n",
    "    guess = [2, 1]\n",
    "    xdata = np.array([0, t_rising])\n",
    "    ydata = np.array([0, V])\n",
    "    estimates, covarience = curve_fit(LinearFunc,\n",
    "                                    xdata,\n",
    "                                    ydata,\n",
    "                                    p0 = guess)\n",
    "    pream_y1[i] = LinearFunc(pream_t1, estimates[0], estimates[1])\n",
    "    \n",
    "for i, V in enumerate(V_preamp):\n",
    "    pream_y2[i] = ExpFunc(pream_t2, V, 10)\n",
    "    \n",
    "# plt.figure(figsize=(12, 8))\n",
    "# # with the data read in with the first routine\n",
    "# plt.plot(np.concatenate([pream_t1, pream_t2+5]), np.concatenate([pream_y1[1], pream_y2[1]]))\n",
    "#print(np.concatenate([pream_y1[1], pream_y2[1]]).size)"
   ]
  },
  {
   "cell_type": "markdown",
   "metadata": {},
   "source": [
    "Shaper/Amplifier + ADC"
   ]
  },
  {
   "cell_type": "code",
   "execution_count": null,
   "metadata": {},
   "outputs": [],
   "source": [
    "def GaussFunc(x, A, mu, sigma):\n",
    "    return A*np.exp(-(x-mu)**2/(2.*sigma**2))\n",
    "\n",
    "N_ref = 8\n",
    "shaper_time = 5\n",
    "shaper_x = np.linspace(0, shaper_time, num=50)\n",
    "shaper_y = np.zeros((N, shaper_x.size))\n",
    "\n",
    "A_arr = V_preamp\n",
    "mu = 2.5\n",
    "sigma = 0.5\n",
    "\n",
    "#### Generate random Gaussians for \n",
    "for i in range(N):\n",
    "    shaper_y[i] = GaussFunc(shaper_x, A_arr[i], mu, sigma)\n",
    "    \n"
   ]
  },
  {
   "cell_type": "markdown",
   "metadata": {},
   "source": [
    " Histograming Gaussians :"
   ]
  },
  {
   "cell_type": "code",
   "execution_count": null,
   "metadata": {},
   "outputs": [],
   "source": [
    "# creating array of bin edges \n",
    "bin_edges = np.linspace(0, N_ref, num=N_ref+1)\n",
    "# finding bin centers \n",
    "bin_centers = 0.5*(bin_edges[1:] + bin_edges[:-1])\n",
    "\n",
    "# filling histogram\n",
    "adc_y = np.zeros((N, N_ref+1))\n",
    "for j, A in enumerate(A_arr): \n",
    "    i = 0\n",
    "    while A > bin_edges[i]:\n",
    "        i+=1\n",
    "    adc_y[j, i-1] = 1\n",
    "\n",
    "for i in range(N-1):\n",
    "    adc_y[i+1] = adc_y[i+1] + adc_y[i]    \n"
   ]
  },
  {
   "cell_type": "markdown",
   "metadata": {},
   "source": [
    "Visualizing data as animation:"
   ]
  },
  {
   "cell_type": "code",
   "execution_count": null,
   "metadata": {},
   "outputs": [],
   "source": [
    "# First set up the figure, the axis, and the plot element we want to animate\n",
    "# create a figure with two subplots\n",
    "fig, (ax0, ax1, ax2, ax3) = plt.subplots(4,1)\n",
    "fig.set_size_inches(10, 9)\n",
    "fig.tight_layout(pad=3.0)\n",
    "\n",
    "\n",
    "### Preamp plot \n",
    "ax0.set(xlim=(0, 100), ylim=(0, N_ref+0.5), xlabel='us', ylabel='Voltage, mV') \n",
    "\n",
    "### Shaper plot \n",
    "ax1.set(xlim=(0, 5), ylim=(0, N_ref+0.5), xlabel='us', ylabel='Voltage, V') \n",
    "\n",
    "### ADC plot \n",
    "ax2.set(xlim=(0, 20), ylim=(0, N_ref), xlabel='time', ylabel='Reference voltages, V') \n",
    "\n",
    "# major ticks - to set grid on (labels off)\n",
    "major_ticks = np.arange(1, N_ref, 1)\n",
    "ax2.set_yticks(major_ticks)\n",
    "ax2.set_yticklabels([], major=True)\n",
    "ax2.grid(axis='y',  linestyle='--', linewidth=1, which='major')\n",
    "\n",
    "# minor ticks - to set labels \n",
    "minor_ticks = np.arange(0.5, N_ref+0.5, 1)\n",
    "ax2.set_yticks(minor_ticks, minor=True)\n",
    "ax2.set_yticklabels(np.arange(0, N_ref, 1), minor=True)\n",
    "\n",
    "### Histogram plot\n",
    "ax3.set(xlim=(0, N_ref), ylim=(0, 10), xlabel='Channels', ylabel='Counts') \n",
    "\n",
    "#xlabel='$\\micro$s', ylabel='$V$'\n",
    "#xlabel='$\\micro$s', ylabel='Reference voltages'\n",
    "\n",
    "ax0.title.set_text('Preamplifier')\n",
    "ax1.title.set_text('Amplifier/Shaper')\n",
    "ax2.title.set_text('Analogue to digital converter (ADC)')\n",
    "ax3.title.set_text('Histogram')\n",
    "\n",
    "line0, = ax0.plot([], [], lw=2)\n",
    "line1, = ax1.plot([], [], lw=2)\n",
    "line2, = ax2.plot([], [], lw=2, color='r')\n",
    "#line3, = ax3.step([], [], lw=2, where='post')\n",
    "line3, = ax3.step([], [], lw=2, where='post')\n",
    "line = [line0, line1, line2, line3]\n",
    "\n",
    "# # Initialization function: draws first frame on video. (empty box in this case)\n",
    "# def init():\n",
    "#     line.set_data([], [])                     # the line has no data\n",
    "#     return line,\n",
    "#\n",
    "\n",
    "\n",
    "# Animation function which updates figure data.  This is called sequentially\n",
    "def animate(i):\n",
    "    line[0].set_data(pream_t, np.concatenate([pream_y1[i], pream_y2[i]]))            # line graph of x and y coordinates\n",
    "    #line[0].set_data(shaper_x, shaper_y[i])            # line graph of x and y coordinates\n",
    "    line[1].set_data(shaper_x, shaper_y[i])            # line graph of x and y coordinates\n",
    "    line[2].set_data(shaper_x + i, shaper_y[i])            # line graph of x and y coordinates\n",
    "    line[3].set_data(bin_edges, adc_y[i]) \n",
    "    #line[2].set_data(bin_centers, adc_y[i])\n",
    "    return line,\n",
    "\n",
    "# Call the animator.  \n",
    "# Draws in Fig\n",
    "# calls animate(i) for every i in frames\n",
    "# delay between frames in miliseconds\n",
    "# blit=True means only re-draw the parts that have changed.\n",
    "anim = animation.FuncAnimation(fig, animate, \n",
    "                               frames=range(N), interval=1000, blit=True)\n"
   ]
  },
  {
   "cell_type": "code",
   "execution_count": null,
   "metadata": {},
   "outputs": [],
   "source": []
  }
 ],
 "metadata": {
  "kernelspec": {
   "display_name": "Python 3",
   "language": "python",
   "name": "python3"
  },
  "language_info": {
   "codemirror_mode": {
    "name": "ipython",
    "version": 3
   },
   "file_extension": ".py",
   "mimetype": "text/x-python",
   "name": "python",
   "nbconvert_exporter": "python",
   "pygments_lexer": "ipython3",
   "version": "3.6.8"
  }
 },
 "nbformat": 4,
 "nbformat_minor": 2
}
