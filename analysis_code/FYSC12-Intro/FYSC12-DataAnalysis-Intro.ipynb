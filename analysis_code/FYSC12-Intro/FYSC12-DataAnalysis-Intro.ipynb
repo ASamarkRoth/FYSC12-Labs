{
 "cells": [
  {
   "cell_type": "markdown",
   "metadata": {},
   "source": [
    "# Data analysis - Introduction for FYSC12 Labs\n",
    "\n",
    "## Table of Content\n",
    "\n",
    "* [About this Notebook](#about)\n",
    "\n",
    "* [Importing python packages](#import)\n",
    "\n",
    "* [Read experimental data from file](#read)\n",
    "    * [Analysis Code](#help1)\n",
    "    * [Plotting the data](#plot)\n",
    "\n",
    "\n",
    "* [Fit of data](#fit)\n",
    "    * [Fitting Gaussians](#gaussian)\n",
    "    * [Calculate Peak Area](#peak_area)\n",
    "    * [Fit a line - Energy calibration](#line)\n",
    "\n",
    "\n",
    "* [Statistical analysis - Error propagation](#stat)\n",
    "\n",
    "## About this Notebook <a name=\"about\"></a>\n",
    "\n",
    "The purpose of this _jupyter_ notebook is to introduce data analysis in the\n",
    "frame of gamma spectroscopy. The example programming language is _Python3_, but\n",
    "of course most coding languages can do the job properly. If you have never\n",
    "programmed before there are so many great tutorials available across the web.\n",
    "There even exist plenty _Open Online Courses_, e.g.\n",
    "https://www.coursera.org/learn/python. Please have a look around for the one\n",
    "that you like the best. However, note that you do not need to be an expert in\n",
    "Python to pass the lab.\n",
    "\n",
    "The data analysis can roughly be divided into four steps:\n",
    "1. Read experimental data from file.\n",
    "2. Fit Gaussians to peaks.\n",
    "3. Calibrate the detector response.\n",
    "4. Perform a statistical analysis (e.g. error propagation) and present results.\n",
    "\n",
    "A dedicated python library, i.e. a folder with already written code, located in\n",
    "`HelpCode`, have been implemented for the data analysis connected to the labs in\n",
    "FYSC12 Nuclear Physics. The folder comprises functions that support 1-3 of the\n",
    "above-mentioned steps.\n",
    "\n",
    "Full Python3 coding examples of how to perform the different steps of the data\n",
    "analysis is given below. Every example is finished with a template of how the\n",
    "`HelpCode`-folder can be used to perform the same calculations.\n",
    "\n",
    "**NOTE**: It is strongly recommended that you program your own functions instead\n",
    "of using the framework directly out of the book. As you will find out, there\n",
    "will come a point where the framework functionalities are not to your\n",
    "satisfaction, and then you need to code yourself. So, better get used to it\n",
    "right away :)"
   ]
  },
  {
   "cell_type": "markdown",
   "metadata": {},
   "source": [
    "## Importing python packages <a name=\"import\"></a>\n",
    "\n",
    "Inserting parent directory to the path such that the analysis code in `fithelpers.py`, `histhelpers.py` and `MCA.py` can be found by `python`."
   ]
  },
  {
   "cell_type": "code",
   "execution_count": null,
   "metadata": {},
   "outputs": [],
   "source": [
    "import sys, os\n",
    "sys.path.append('../')\n",
    "import numpy as np\n",
    "import fithelpers, histhelpers, MCA"
   ]
  },
  {
   "cell_type": "markdown",
   "metadata": {},
   "source": [
    "## Read experimental data from file <a name=\"read\"></a>\n",
    "\n",
    "For an introduction on how to read and write files see e.g. http://www.pythonforbeginners.com/files/reading-and-writing-files-in-python or you could have a look at the source code in [MCA.py](../MCA.py).\n",
    "\n",
    "### Analysis Code <a name=\"help1\"></a>\n",
    "\n",
    "With the `analysis_code` one can read the experimental data from one data file as follows:"
   ]
  },
  {
   "cell_type": "code",
   "execution_count": null,
   "metadata": {
    "attributes": {
     "classes": [],
     "id": "",
     "n": "2"
    }
   },
   "outputs": [],
   "source": [
    "data = MCA.load_spectrum(\"test_data.Spe\")"
   ]
  },
  {
   "cell_type": "markdown",
   "metadata": {},
   "source": [
    "`data` is an object of a class `Spectrum` and holds the channels in `x` and its content in `y` (cf. [MCA.py](../MCA.py)). See for instance: "
   ]
  },
  {
   "cell_type": "code",
   "execution_count": null,
   "metadata": {},
   "outputs": [],
   "source": [
    "print('x = ', data.x)\n",
    "print('y = ', data.y)"
   ]
  },
  {
   "cell_type": "markdown",
   "metadata": {},
   "source": [
    "### Plotting the data <a name=\"plot\"></a>\n",
    "\n",
    "It is always good to visualise your data. This is how you can plot and visualise it:"
   ]
  },
  {
   "cell_type": "code",
   "execution_count": null,
   "metadata": {
    "attributes": {
     "classes": [],
     "id": "",
     "n": "4"
    }
   },
   "outputs": [],
   "source": [
    "import matplotlib\n",
    "# choose a backend for web applications; remove for stand-alone applications:\n",
    "matplotlib.use('Agg')\n",
    "# enable interactive notebook plots (\n",
    "# alternative: use 'inline' instead of 'notebook'/'widget' for static images)\n",
    "%matplotlib widget\n",
    "\n",
    "#The following line is the ONLY one needed in stand-alone applications!\n",
    "import matplotlib.pyplot as plt"
   ]
  },
  {
   "cell_type": "code",
   "execution_count": null,
   "metadata": {
    "attributes": {
     "classes": [],
     "id": "",
     "n": "5"
    }
   },
   "outputs": [],
   "source": [
    "plt.figure()\n",
    "# with the data read in with the first routine\n",
    "plt.plot(data.x, data.y)\n",
    "\n",
    "#plt.savefig(\"test_spectrum.png\") #This is how you save the figure\n",
    "plt.show()\n",
    "\n",
    "## Could be useful to see this in log scale..?\n",
    "#plt.yscale('log')\n",
    "#plt.ylim(ymin=1)"
   ]
  },
  {
   "cell_type": "markdown",
   "metadata": {},
   "source": [
    "## Fit of data <a name=\"fit\"></a>\n",
    "\n",
    "Fitting functions can be made simply with the `scipy.optimize` module. The\n",
    "function `curve_fit` does the job for you and the [documentation](https://docs.scipy.org/doc/scipy/reference/generated/scipy.optimize.curve_fit.html) contains\n",
    "all the valuable information on how to use the function. It uses a method called\n",
    "least squares which you can read about in most course literature on statistics\n",
    "and for instance on [Wolfram\n",
    "Alpha](http://mathworld.wolfram.com/LeastSquaresFitting.html).\n",
    "\n",
    "### Fitting Gaussian <a name=\"gaussian\"></a>\n",
    "\n",
    "Read up on the Gaussian function here: [https://en.wikipedia.org/wiki/Gaussian_function](https://en.wikipedia.org/wiki/Gaussian_function)\n",
    "\n",
    "The following code shows how to use the function `curve_fit` to fit a peak in\n",
    "the data that was read in above (i.e. you will need to execute the above code\n",
    "section before this section will work)."
   ]
  },
  {
   "cell_type": "code",
   "execution_count": null,
   "metadata": {
    "attributes": {
     "classes": [],
     "id": "",
     "n": "6"
    }
   },
   "outputs": [],
   "source": [
    "from scipy.optimize import curve_fit\n",
    "\n",
    "def GaussFunc(x, A, mu, sigma):\n",
    "    return A*np.exp(-(x-mu)**2/(2.*sigma**2))\n",
    "\n",
    "#mu = np.asarray([3300, 3750])\n",
    "#E = np.asarray([1173.2, 1332.5])\n",
    "mu_guess = 3300\n",
    "A_guess = data.y[mu_guess]\n",
    "sigma_guess = 1\n",
    "guess = [A_guess, mu_guess, sigma_guess]\n",
    "n = 50 #number of points on each side to include in fit\n",
    "\n",
    "estimates, covar_matrix = curve_fit(GaussFunc,\n",
    "                                    data.x[mu_guess-n:mu_guess+n],\n",
    "                                    data.y[mu_guess-n:mu_guess+n],\n",
    "                                    p0=guess)\n",
    "A, mu, sigma = estimates[0], estimates[1], estimates[2]\n",
    "print(\"Estimates of (A mu sigma) = (\", A, mu, sigma, \")\\n\")\n",
    "\n",
    "print(\"Covariance matrix = \\n\", covar_matrix, \"\\n\")\n",
    "\n",
    "print(\"Uncertainties in the estimated parameters: \\n[ sigma^2(A) sigma^2(mu), sigma^2(sigma) ] = \\n[\", covar_matrix[0][0], covar_matrix[1][1], covar_matrix[2][2], \"]\" )\n",
    "\n",
    "plt.figure()\n",
    "plt.plot(data.x[mu_guess-n:mu_guess+n],data.y[mu_guess-n:mu_guess+n], linestyle=\"\", marker=\"*\")\n",
    "plt.plot(data.x[mu_guess-n:mu_guess+n], GaussFunc(data.x[mu_guess-n:mu_guess+n], A, mu, sigma))\n",
    "plt.show()"
   ]
  },
  {
   "cell_type": "markdown",
   "metadata": {},
   "source": [
    "### Calculating Peak Area <a name=\"peak_area\"></a>\n",
    "\n",
    "There are different ways in how to calculate the area of a peak in a spectrum. The by far easiest method is to calculate the area of the fitted Gaussian function (see [https://en.wikipedia.org/wiki/Gaussian_function](https://en.wikipedia.org/wiki/Gaussian_function))."
   ]
  },
  {
   "cell_type": "code",
   "execution_count": null,
   "metadata": {
    "scrolled": true
   },
   "outputs": [],
   "source": [
    "Area = np.sqrt(2*np.pi)*A*np.abs(sigma)\n",
    "print('Area of peak is: ', Area)"
   ]
  },
  {
   "cell_type": "markdown",
   "metadata": {},
   "source": [
    "### Analysis code\n",
    "\n",
    "With the analysis code:"
   ]
  },
  {
   "cell_type": "code",
   "execution_count": null,
   "metadata": {
    "attributes": {
     "classes": [],
     "id": "",
     "n": "7"
    }
   },
   "outputs": [],
   "source": [
    "mu_guess = 3300\n",
    "A_guess = data.y[mu_guess]\n",
    "sigma_guess = 1\n",
    "n = 50 #number of points on each side to include in fit\n",
    "\n",
    "gauss = fithelpers.fit_gaussian_at_idx(data.x, data.y, mu_guess, npoints=n)\n",
    "print(\"Estimates of (A mu sigma) = (\", gauss.A, gauss.mu, gauss.sigma, \")\\n\")\n",
    "\n",
    "print(\"Covariance matrix = \\n\", gauss.covar_matrix, \"\\n\")\n",
    "\n",
    "print(\"Uncertainties in the estimated parameters: \\n[ sigma^2(A) sigma^2(mu), sigma^2(sigma) ] = \\n[\", gauss.covar_matrix[0][0], gauss.covar_matrix[1][1], gauss.covar_matrix[2][2], \"]\" )\n",
    "\n",
    "plt.figure()\n",
    "plt.plot(data.x[mu_guess-n:mu_guess+n], data.y[mu_guess-n:mu_guess+n], linestyle=\"\", marker=\"*\")\n",
    "plt.plot(data.x[mu_guess-n:mu_guess+n], gauss.value(data.x)[mu_guess-n:mu_guess+n])\n",
    "plt.show()\n",
    "\n",
    "Area = np.sqrt(2*np.pi)*gauss.A*np.abs(gauss.sigma)\n",
    "print('Area of peak is: ', Area)"
   ]
  },
  {
   "cell_type": "markdown",
   "metadata": {},
   "source": [
    "### Fit a line - Energy calibration <a name=\"line\"></a>\n",
    "\n",
    "In spectroscopy experiments it is often essential to calibrate the detector response with respect to a known energies emitted from a so called calibration source. The relationship between the detector response and the energy is mostly assumed linear. The code below exemplifies how to estimate the linear calibration for 'random data'."
   ]
  },
  {
   "cell_type": "code",
   "execution_count": null,
   "metadata": {},
   "outputs": [],
   "source": [
    "# x and y are some 'random data'\n",
    "x = np.asarray([1,3,5,7])\n",
    "y = np.asarray([1.3, 2.1, 2.9, 4.2])\n",
    "\n",
    "#If you are more or less uncertain about your y-values this can be used in the fit by including the following line.\n",
    "sigmay = np.asarray([0.5, 0.3, 0.1, 0.2])\n",
    "\n",
    "# Define the linear function which you want to fit.\n",
    "def LineFunc(x, k, m):\n",
    "    return k*x+m\n",
    "\n",
    "# As for the Gaussian fit the function curve_fit needs a guess for the parameters to be estimated.\n",
    "guess = [2, 1]\n",
    "\n",
    "# Perform the fit\n",
    "estimates, covar_matrix = curve_fit(LineFunc,\n",
    "                                    x,\n",
    "                                    y,\n",
    "                                    p0 = guess,\n",
    "                                    sigma = sigmay)\n",
    "\n",
    "print(\"Estimates of (k m) = (\", estimates[0], estimates[1], \")\\n\")\n",
    "\n",
    "# plot the result\n",
    "plt.figure()\n",
    "plt.plot(x,y, linestyle=\"\", marker=\"*\")\n",
    "plt.plot(x, LineFunc(x, estimates[0], estimates[1]))\n",
    "plt.show()"
   ]
  },
  {
   "cell_type": "markdown",
   "metadata": {},
   "source": [
    "## Statistical analysis - Error propagation<a name=\"stat\"></a>\n",
    "\n",
    "Background theory and instructions on how to perform statistical analysis on\n",
    "experimental data, with error propagation, can be found in the document\n",
    "http://www.fysik.lu.se/fileadmin/fysikportalen/UDIF/Bilder/FYSA31_KF_error.pdf, but of course also easily through a google search."
   ]
  }
 ],
 "metadata": {
  "hide_input": false,
  "kernelspec": {
   "display_name": "Python 3",
   "language": "python",
   "name": "python3"
  },
  "language_info": {
   "codemirror_mode": {
    "name": "ipython",
    "version": 3
   },
   "file_extension": ".py",
   "mimetype": "text/x-python",
   "name": "python",
   "nbconvert_exporter": "python",
   "pygments_lexer": "ipython3",
   "version": "3.6.5"
  },
  "latex_envs": {
   "LaTeX_envs_menu_present": true,
   "autoclose": false,
   "autocomplete": true,
   "bibliofile": "biblio.bib",
   "cite_by": "apalike",
   "current_citInitial": 1,
   "eqLabelWithNumbers": true,
   "eqNumInitial": 1,
   "hotkeys": {
    "equation": "Ctrl-E",
    "itemize": "Ctrl-I"
   },
   "labels_anchors": false,
   "latex_user_defs": false,
   "report_style_numbering": false,
   "user_envs_cfg": false
  },
  "toc": {
   "base_numbering": 1,
   "nav_menu": {},
   "number_sections": true,
   "sideBar": true,
   "skip_h1_title": false,
   "title_cell": "Table of Contents",
   "title_sidebar": "Contents",
   "toc_cell": false,
   "toc_position": {},
   "toc_section_display": true,
   "toc_window_display": false
  }
 },
 "nbformat": 4,
 "nbformat_minor": 2
}
