{
 "cells": [
  {
   "cell_type": "markdown",
   "metadata": {},
   "source": [
    "# Data analysis - Introduction for FYSC12 Labs\n",
    "\n",
    "## Table of Content\n",
    "\n",
    "* [About this Notebook](#about)\n",
    "\n",
    "* [Importing python packages](#import)\n",
    "\n",
    "* [Read experimental data from file](#read)\n",
    "    * [Analysis Code](#help1)\n",
    "    * [Plotting the data](#plot)\n",
    "\n",
    "\n",
    "* [Fit of data](#fit)\n",
    "    * [Fitting Gaussians](#gaussian)\n",
    "    * [Calculate Peak Area](#peak_area)\n",
    "    * [Fit a line - Energy calibration](#line)\n",
    "\n",
    "\n",
    "* [Statistical analysis - Error propagation](#stat)\n",
    "\n",
    "## About this Notebook <a name=\"about\"></a>\n",
    "\n",
    "The purpose of this _jupyter_ notebook is to introduce data analysis in the\n",
    "frame of gamma spectroscopy. The example programming language is _Python3_ , but\n",
    "of course most coding languages can do the job properly. If you have never\n",
    "programmed before there are so many great tutorials available across the web.\n",
    "There even exist plenty _Open Online Courses_ , e.g.\n",
    "https://www.coursera.org/learn/python. Please have a look around for the one\n",
    "that you like the best. However, note that you do not need to be an expert in\n",
    "Python to pass the lab.\n",
    "\n",
    "The data analysis can roughly be divided into four steps:\n",
    "1. Read experimental data from file.\n",
    "2. Fit Gaussians to peaks.\n",
    "3. Calibrate the detector response.\n",
    "4. Perform a statistical analysis (e.g. error propagation) and present results.\n",
    "\n",
    "A dedicated python library, i.e. a folder with already written code, located in\n",
    "`HelpCode`, have been implemented for the data analysis connected to the labs in\n",
    "FYSC12 Nuclear Physics. The folder comprises functions that support 1-3 of the\n",
    "above-mentioned steps.\n",
    "\n",
    "Full Python3 coding examples of how to perform the different steps of the data\n",
    "analysis is given below. Every example is finished with a template of how the\n",
    "`HelpCode`-folder can be used to perform the same calculations.\n"
   ]
  },
  {
   "cell_type": "markdown",
   "metadata": {},
   "source": [
    "## Importing python packages <a name=\"import\"></a>\n",
    "\n",
    "Here is **the full list of packages** needed to run the code in this Jupyter Notebook. "
   ]
  },
  {
   "cell_type": "code",
   "execution_count": null,
   "metadata": {},
   "outputs": [],
   "source": [
    "# Packages to help importing files \n",
    "import sys, os\n",
    "sys.path.append('../')\n",
    "\n",
    "# Package that supports working with large arrays\n",
    "import numpy as np  \n",
    "\n",
    "# Package for plotting \n",
    "import matplotlib   # choose a backend for web applications; remove for stand-alone applications:\n",
    "matplotlib.use('Agg') # enable interactive notebook plots (alternative: use 'inline' instead of 'notebook'/'widget' for static images)\n",
    "%matplotlib notebook\n",
    "\n",
    "#The following line is the ONLY one needed in stand-alone applications!\n",
    "import matplotlib.pyplot as plt\n",
    "\n",
    "# Function that fits a curve to data \n",
    "from scipy.optimize import curve_fit\n",
    "\n",
    "\n",
    "%load_ext autoreload\n",
    "%autoreload 2\n",
    "# Custom pakages prepared for you to use when analyzing experimental data from labs \n",
    "import fithelpers, histhelpers, MCA, fittingFunctions"
   ]
  },
  {
   "cell_type": "markdown",
   "metadata": {},
   "source": [
    "Inserting parent directory to the path such that the analysis code in `fithelpers.py`, `histhelpers.py` and `MCA.py` can be found by `python`."
   ]
  },
  {
   "cell_type": "code",
   "execution_count": null,
   "metadata": {},
   "outputs": [],
   "source": [
    "from IPython.core.display import display, HTML\n",
    "display(HTML(\"<style>.container { width:100% !important; }</style>\"))"
   ]
  },
  {
   "cell_type": "markdown",
   "metadata": {},
   "source": [
    "--------------------------------------------------------------------------------------------------------------"
   ]
  },
  {
   "cell_type": "markdown",
   "metadata": {},
   "source": [
    "## Signal read-out chain"
   ]
  },
  {
   "cell_type": "markdown",
   "metadata": {},
   "source": [
    "#### Preamplifier"
   ]
  },
  {
   "cell_type": "code",
   "execution_count": null,
   "metadata": {},
   "outputs": [],
   "source": [
    "t_raise = 3 # micro seconds\n",
    "t_discharge = 50 # micro seconds \n",
    "\n",
    "t = np.linspace(t_raise, t_discharge, num=100)\n",
    "\n",
    "def Exp(t, V0):\n",
    "    return V0*np.exp(-t/10)\n",
    "\n",
    "plt.figure()\n",
    "# with the data read in with the first routine\n",
    "plt.plot(t, Exp(t, 10))\n"
   ]
  },
  {
   "cell_type": "code",
   "execution_count": null,
   "metadata": {},
   "outputs": [],
   "source": [
    "# Shaper nad amplifier"
   ]
  },
  {
   "cell_type": "code",
   "execution_count": null,
   "metadata": {},
   "outputs": [],
   "source": [
    "t = np.linspace(0, 5, num=100)\n",
    "\n",
    "plt.figure()\n",
    "# with the data read in with the first routine\n",
    "\n",
    "mu = 2.5\n",
    "A = 5\n",
    "sigma = 0.5\n",
    "plt.plot(t, fittingFunctions.GaussFunc(t, A, mu, sigma))\n",
    "plt.title(\"Shaper/Amplifier\")\n",
    "plt.xlabel(\"us\")\n",
    "plt.ylabel(\"V\")\n"
   ]
  },
  {
   "cell_type": "code",
   "execution_count": null,
   "metadata": {},
   "outputs": [],
   "source": [
    "t = np.linspace(0, 5, num=100)\n",
    "\n",
    "plt.figure()\n",
    "plt.title(\"Shaper/Amplifier\")\n",
    "plt.xlabel(\"us\")\n",
    "plt.ylabel(\"V\")\n",
    "\n",
    "mu = 2.5\n",
    "A = 5\n",
    "sigma = 0.5\n",
    "N = 10\n",
    "for i in range(N):\n",
    "    A = np.random.randint(5)\n",
    "    plt.plot(t, fittingFunctions.GaussFunc(t, A, mu, sigma))\n",
    "    plt.pause(0.05)\n",
    "\n",
    "plt.show()"
   ]
  },
  {
   "cell_type": "code",
   "execution_count": null,
   "metadata": {},
   "outputs": [],
   "source": [
    "import matplotlib.animation as animation\n",
    "from IPython.display import display\n",
    "import ipywidgets as widgets"
   ]
  },
  {
   "cell_type": "code",
   "execution_count": null,
   "metadata": {},
   "outputs": [],
   "source": [
    "V_array = []\n",
    "\n",
    "# First set up the figure, the axis, and the plot element we want to animate\n",
    "fig = plt.figure()\n",
    "ax = plt.axes(xlim=(0, 5), ylim=(0, 5))\n",
    "line, = ax.plot([], [], lw=2)\n",
    "\n",
    "# initialization function: plot the background of each frame\n",
    "def init():\n",
    "    line.set_data([], [])\n",
    "    return line,\n",
    "\n",
    "# animation function.  This is called sequentially\n",
    "def animate(i):\n",
    "    t = np.linspace(0, 5, num=100)\n",
    "    A = np.random.randint(5)\n",
    "    V = fittingFunctions.GaussFunc(t, A, mu, sigma)\n",
    "    V_array.append(V)\n",
    "    line.set_data(t, V) \n",
    "    return line,\n",
    "\n",
    "# call the animator.  blit=True means only re-draw the parts that have changed.\n",
    "anim = animation.FuncAnimation(fig, animate, init_func=init,\n",
    "                               frames=10, interval=20, blit=True)\n",
    "\n",
    "plt.show()"
   ]
  },
  {
   "cell_type": "code",
   "execution_count": null,
   "metadata": {},
   "outputs": [],
   "source": [
    "def onClick(event):\n",
    "    global pause\n",
    "    pause ^= True\n",
    "fig.canvas.mpl_connect('button_press_event', onClick)"
   ]
  },
  {
   "cell_type": "code",
   "execution_count": null,
   "metadata": {},
   "outputs": [],
   "source": [
    "pause = False\n",
    "def simData():\n",
    "    t_max = 10.0\n",
    "    dt = 0.05\n",
    "    x = 0.0\n",
    "    t = 0.0\n",
    "    while t < t_max:\n",
    "        if not pause:\n",
    "            x = np.sin(np.pi*t)\n",
    "            t = t + dt\n",
    "        yield x, t\n",
    "\n",
    "def onClick(event):\n",
    "    global pause\n",
    "    pause ^= True\n",
    "\n",
    "def simPoints(simData):\n",
    "    x, t = simData[0], simData[1]\n",
    "    time_text.set_text(time_template%(t))\n",
    "    line.set_data(t, x)\n",
    "    return line, time_text\n",
    "\n",
    "fig = plt.figure()\n",
    "ax = fig.add_subplot(111)\n",
    "line, = ax.plot([], [], 'bo', ms=10)\n",
    "ax.set_ylim(-1, 1)\n",
    "ax.set_xlim(0, 10)\n",
    "\n",
    "time_template = 'Time = %.1f s'\n",
    "time_text = ax.text(0.05, 0.9, '', transform=ax.transAxes)\n",
    "fig.canvas.mpl_connect('button_press_event', onClick)\n",
    "ani = animation.FuncAnimation(fig, simPoints, simData, blit=False, interval=10,\n",
    "    repeat=True)\n",
    "plt.show()"
   ]
  },
  {
   "cell_type": "code",
   "execution_count": null,
   "metadata": {},
   "outputs": [],
   "source": [
    "\n",
    "\n",
    "def clicked(arg):\n",
    "    print(\"button has been clicked!\")\n",
    "\n",
    "button_download = widgets.Button(description = 'Test Button')   \n",
    "button_download.on_click(clicked)\n",
    "display(button_download)"
   ]
  },
  {
   "cell_type": "markdown",
   "metadata": {},
   "source": [
    "--------------------------------------------------------------------------------------------------------------"
   ]
  },
  {
   "cell_type": "markdown",
   "metadata": {},
   "source": [
    "## Test histogram"
   ]
  },
  {
   "cell_type": "code",
   "execution_count": null,
   "metadata": {},
   "outputs": [],
   "source": [
    "## show how to make a histogram to students \n",
    "## show a shift"
   ]
  },
  {
   "cell_type": "code",
   "execution_count": null,
   "metadata": {},
   "outputs": [],
   "source": [
    "x = [0.5, 1.5, 2.5, 3.5, 4.5]\n",
    "bin_edges = np.array([0,1 , 2, 3, 4, 5])\n",
    "y = [10, 11, 5, 4, 15]"
   ]
  },
  {
   "cell_type": "code",
   "execution_count": null,
   "metadata": {},
   "outputs": [],
   "source": [
    "bin_edges = np.array([0, 1, 2, 3, 4, 5, 6])\n",
    "y = [10, 11, 5, 4, 15]\n",
    "\n",
    "plt.figure()\n",
    "# with the data read in with the first routine\n",
    "plt.step(bin_edges[0:-2], y, where='post')\n",
    "\n",
    "\n",
    "plt.show()\n",
    "plt.title(\"Test spectrum\")\n",
    "plt.xlabel(\"Channels\")\n",
    "plt.ylabel(\"Counts\")"
   ]
  },
  {
   "cell_type": "code",
   "execution_count": null,
   "metadata": {},
   "outputs": [],
   "source": [
    "plt.figure()\n",
    "# with the data read in with the first routine\n",
    "plt.step(x, y, where='mid')\n",
    "\n",
    "_x = (bin_edges[1:] + bin_edges[:-1]) / 2.0\n",
    "\n",
    "#plt.hist(_x, bins=bin_edges, weights=y, color='red', label='hist')\n",
    "\n",
    "plt.plot([i + 0.5 for i in x],y,ls='steps')\n",
    "\n",
    "plt.show()\n",
    "plt.title(\"Test spectrum\")\n",
    "plt.xlabel(\"Channels\")\n",
    "plt.ylabel(\"Counts\")"
   ]
  },
  {
   "cell_type": "markdown",
   "metadata": {},
   "source": [
    "## Read experimental data from file <a name=\"read\"></a>\n",
    "\n",
    "### Loading spectrum <a name=\"help1\"></a>\n",
    "\n",
    "With the help of the function `load_spectrum` from package `MCA` one can read the experimental data from one data file as follows:"
   ]
  },
  {
   "cell_type": "code",
   "execution_count": null,
   "metadata": {
    "attributes": {
     "classes": [],
     "id": "",
     "n": "2"
    }
   },
   "outputs": [],
   "source": [
    "data = MCA.load_spectrum(\"test_data.Spe\")"
   ]
  },
  {
   "cell_type": "markdown",
   "metadata": {},
   "source": [
    "_If you are interested in how to read and write files in Python see e.g. http://www.pythonforbeginners.com/files/reading-and-writing-files-in-python or you could have a look at the source code in [MCA.py](../MCA.py)._"
   ]
  },
  {
   "cell_type": "markdown",
   "metadata": {},
   "source": [
    "`data` is an object of a class `Spectrum` in which we store channels in `x` variable and counts in `y` (cf. [MCA.py](../MCA.py)). See for instance: "
   ]
  },
  {
   "cell_type": "code",
   "execution_count": null,
   "metadata": {},
   "outputs": [],
   "source": [
    "print('x = ', data.x)\n",
    "print('y = ', data.y)"
   ]
  },
  {
   "cell_type": "markdown",
   "metadata": {},
   "source": [
    "## Plotting the data <a name=\"plot\"></a>\n",
    "\n",
    "It is always good to visualise your data. This is how you can plot and visualise it:"
   ]
  },
  {
   "cell_type": "code",
   "execution_count": null,
   "metadata": {
    "attributes": {
     "classes": [],
     "id": "",
     "n": "5"
    }
   },
   "outputs": [],
   "source": [
    "plt.figure(figsize=(12, 8))\n",
    "# with the data read in with the first routine\n",
    "plt.step(data.x, data.y, where='mid', label='step')\n",
    "\n",
    "_x = (data.x[1:] + data.x[:-1]) / 2.0\n",
    "_x = np.concatenate([np.array([0]), _x])\n",
    "print(_x)\n",
    "print(len(_x))\n",
    "print(len(data.x))\n",
    "print(len(data.y))\n",
    "\n",
    "plt.hist(_x, bins=data.x, weights=data.y, color='red', label='hist')\n",
    "\n",
    "#plt.show()\n",
    "plt.title(\"Test spectrum\")\n",
    "plt.xlabel(\"Channels\")\n",
    "plt.ylabel(\"Counts\")\n",
    "plt.legend()\n",
    "#plt.savefig(\"test_spectrum.png\") #This is how you save the figure\n",
    "\n",
    "## Could be useful to see this in log scale..?\n",
    "#plt.yscale('log')\n",
    "#plt.ylim(ymin=1)"
   ]
  },
  {
   "cell_type": "markdown",
   "metadata": {},
   "source": [
    "## Analyzing data <a name=\"fit\"></a>\n",
    "\n",
    "In $\\gamma$-ray (or other radiation) spectroscopy measurements, the goal is usually to determine the energy and the intensity of the radiation. To find the energy, the centroid of a peak must be determined. Area of the peak represents to the intensity of the radiation. A good way to find the peak centroid and area is to fit a Gaussian to the peak. \n",
    "\n",
    "\n",
    "### Fitting a Gaussian <a name=\"gaussian\"></a>\n",
    "\n",
    "Read up on the Gaussian function here: [https://en.wikipedia.org/wiki/Gaussian_function](https://en.wikipedia.org/wiki/Gaussian_function)\n",
    "\n",
    "The following code shows how to use the function `curve_fit` to fit a peak in\n",
    "the data that was read in above (i.e. you will need to execute the above code\n",
    "section before this section will work).\n",
    "\n",
    "_The function `curve_fit` from `scipy.optimize` module does the job for you and the [documentation](https://docs.scipy.org/doc/scipy/reference/generated/scipy.optimize.curve_fit.html) contains all the valuable information on how to use the function. It uses a method called least squares which you can read about in most course literature on statistics\n",
    "and for instance on [Wolfram Alpha](http://mathworld.wolfram.com/LeastSquaresFitting.html)._"
   ]
  },
  {
   "cell_type": "markdown",
   "metadata": {},
   "source": [
    "To fit a Gaussian to your peak you need to provide `curve_fit` with some initial guess for its constants:"
   ]
  },
  {
   "cell_type": "code",
   "execution_count": null,
   "metadata": {
    "attributes": {
     "classes": [],
     "id": "",
     "n": "6"
    }
   },
   "outputs": [],
   "source": [
    "##### Your initial guess here:\n",
    "\n",
    "mu_guess = 3748.8 # a guess for position of peak centroid\n",
    "n = 30 #number of points on each side to include in fit\n",
    "\n",
    "\n",
    "##### Now we can perform the fit:\n",
    "idx = (np.abs(data.x-mu_guess)).argmin() # find index of the mu guess value in x array\n",
    "A_guess = data.y[idx] # a guess for the amplitude of the peak (you do not need to change it) \n",
    "sigma_guess = 1 # guess for sigma \n",
    "\n",
    "from scipy.optimize import curve_fit\n",
    "\n",
    "def GaussFunc(x, A, mu, sigma):\n",
    "    return A*np.exp(-(x-mu)**2/(2.*sigma**2))\n",
    "\n",
    "guess = [A_guess, mu_guess, sigma_guess]\n",
    "\n",
    "estimates, covar_matrix = curve_fit(GaussFunc,\n",
    "                                    data.x[idx-n:idx+n],\n",
    "                                    data.y[idx-n:idx+n],\n",
    "                                    p0=guess)\n",
    "\n",
    "A, mu, sigma = estimates[0], estimates[1], estimates[2]\n",
    "\n",
    "plt.figure()\n",
    "plt.step(data.x[idx-n:idx+n],data.y[idx-n:idx+n], color='cornflowerblue', label='data')\n",
    "plt.plot(data.x[idx-n:idx+n], GaussFunc(data.x[idx-n:idx+n], A, mu, sigma), color='forestgreen', label = 'Gaussian fit')\n",
    "plt.legend(loc='upper right', frameon=False)\n",
    "plt.show()\n",
    "\n",
    "print(\"Estimates of (A mu sigma) = (\", A, mu, sigma, \")\\n\")\n",
    "print(\"Covariance matrix = \\n\", covar_matrix, \"\\n\")\n",
    "print(\"Uncertainties in the estimated parameters: \\n[ sigma^2(A) sigma^2(mu), sigma^2(sigma) ] = \\n[\", covar_matrix[0][0], covar_matrix[1][1], covar_matrix[2][2], \"]\" )\n"
   ]
  },
  {
   "cell_type": "markdown",
   "metadata": {},
   "source": [
    "### Calculating Peak Area <a name=\"peak_area\"></a>\n",
    "\n",
    "There are different ways in how to calculate the area of a peak in a spectrum. The by far easiest method is to calculate the area of the fitted Gaussian function (see [https://en.wikipedia.org/wiki/Gaussian_function](https://en.wikipedia.org/wiki/Gaussian_function))."
   ]
  },
  {
   "cell_type": "code",
   "execution_count": null,
   "metadata": {
    "scrolled": true
   },
   "outputs": [],
   "source": [
    "Area = np.sqrt(2*np.pi)*A*np.abs(sigma)\n",
    "print('Area of peak is: ', Area)"
   ]
  },
  {
   "cell_type": "markdown",
   "metadata": {},
   "source": [
    "### Analysis code\n",
    "\n",
    "To produce the same results you can just use the function `perform_Gaussian_fit` from `fittingFunctions` package. \n",
    "\n",
    "\n",
    "**You can just copy the following cell and use it in your Jupyter Notebooks with solutions for laboratories.**"
   ]
  },
  {
   "cell_type": "code",
   "execution_count": null,
   "metadata": {
    "attributes": {
     "classes": [],
     "id": "",
     "n": "7"
    }
   },
   "outputs": [],
   "source": [
    "mu_guess = 3300 # guess of a position of a peak centroid \n",
    "n = 30 #number of points on each side to include in fit\n",
    "\n",
    "gauss = fittingFunctions.perform_Gaussian_fit(data.x, data.y, mu_guess, n)\n",
    "\n",
    "Area = np.sqrt(2*np.pi)*gauss.A*np.abs(gauss.sigma)\n",
    "print('Area of peak is: ', Area)"
   ]
  },
  {
   "cell_type": "markdown",
   "metadata": {},
   "source": [
    "## Influence of initial guess on your Gaussian fit "
   ]
  },
  {
   "cell_type": "markdown",
   "metadata": {},
   "source": [
    "Now let's look at how our initial guess of the position of peak centroid and number of points influence out fit. Change numbers for mu_guess and n, and check how the change affects your fit."
   ]
  },
  {
   "cell_type": "code",
   "execution_count": null,
   "metadata": {},
   "outputs": [],
   "source": [
    "from ipywidgets import interact, interactive, fixed, widgets\n",
    "\n",
    "def plot_interactive_fit(mu_guess, n):\n",
    "    gauss = fittingFunctions.perform_Gaussian_fit(data.x, data.y, mu_guess, n)\n",
    "    \n",
    "interactive_plot = interactive(plot_interactive_fit, mu_guess=(3200, 3400, 1), n=(15, 45, 1), continuous_update=False)\n",
    "interactive_plot.children[0].description=r'mu_guess' # slider\n",
    "interactive_plot.children[1].description=r'n'\n",
    "interactive_plot.children[0].continuous_update = True\n",
    "interactive_plot.children[1].continuous_update = False\n",
    "interactive_plot"
   ]
  },
  {
   "cell_type": "code",
   "execution_count": null,
   "metadata": {},
   "outputs": [],
   "source": [
    "# mu_guess = 3300 # guess of a position of a peak centroid \n",
    "# n = 30 #number of points on each side to include in fit\n",
    "# fittingFunctions.perform_Gaussian_fit_with_widget(data.x, data.y, mu_guess, n)"
   ]
  },
  {
   "cell_type": "code",
   "execution_count": null,
   "metadata": {},
   "outputs": [],
   "source": [
    "# histogram with number of bins"
   ]
  },
  {
   "cell_type": "markdown",
   "metadata": {},
   "source": [
    "## Improving your fit - accounting for a linear background"
   ]
  },
  {
   "cell_type": "markdown",
   "metadata": {},
   "source": [
    "Often times we want to subtract the background from our peak as the peak may be on the Compton continuum of other peaks higher in energy. It is needed to be able to correctly determine the intensity of the peak.  "
   ]
  },
  {
   "cell_type": "code",
   "execution_count": null,
   "metadata": {},
   "outputs": [],
   "source": [
    "# def plot_interactive_fit_background(mu_guess, n, left_selection, right_selection):\n",
    "#     gauss = fittingFunctions.perform_Gaussian_fit(data.x, data.y, mu_guess, n, left_selection, right_selection)\n",
    "\n",
    "# interactive_plot = interactive(plot_interactive_fit_background, mu_guess=(3280, 3320, 1), n=fixed(30), left_selection = widgets.IntRangeSlider(values=[3285, 3290], min=3280, max=3280+15), right_selection = widgets.IntRangeSlider(values=[3310, 3312], min=3300+15, max=3320))\n",
    "# interactive_plot.children[0].description=r'mu_guess' # slider\n",
    "# interactive_plot.children[1].description=r'n'\n",
    "# interactive_plot.children[0].continuous_update = True\n",
    "# interactive_plot.children[1].continuous_update = False\n",
    "# interactive_plot"
   ]
  },
  {
   "cell_type": "code",
   "execution_count": null,
   "metadata": {
    "scrolled": false
   },
   "outputs": [],
   "source": [
    "mu_guess_widget = widgets.IntSlider(value=3300, min=3280, max=3320, step=1)\n",
    "n_widget = widgets.IntSlider(value=30, min=15, max=45, step=1)\n",
    "left_selection_widget = widgets.IntRangeSlider(values=[3285, 3290], min=3280, max=3280+15)\n",
    "right_selection_widget = widgets.IntRangeSlider(values=[3310, 3312], min=3300+15, max=3320)\n",
    "\n",
    "def update_selections(*args):\n",
    "    left_selection_widget.min = mu_guess_widget.value - n_widget.value\n",
    "    left_selection_widget.max = mu_guess_widget.value - int(n_widget.value/4)\n",
    "    right_selection_widget.min = mu_guess_widget.value + int(n_widget.value/4)\n",
    "    right_selection_widget.max = mu_guess_widget.value + n_widget.value\n",
    "    \n",
    "    \n",
    "left_selection_widget.observe(update_selections, 'value')\n",
    "right_selection_widget.observe(update_selections, 'value')\n",
    "\n",
    "def plot_interactive_fit_background(mu_guess, n, left_selection, right_selection):\n",
    "    gauss = fittingFunctions.perform_Gaussian_fit(data.x, data.y, mu_guess, n, left_selection, right_selection)\n",
    "\n",
    "    \n",
    "    \n",
    "interactive_plot = interactive(plot_interactive_fit_background, mu_guess=mu_guess_widget, n=n_widget, left_selection=left_selection_widget, right_selection=right_selection_widget)\n",
    "interactive_plot.children[0].description=r'mu_guess' # slider\n",
    "interactive_plot.children[1].description=r'n'\n",
    "interactive_plot.children[0].continuous_update = True\n",
    "interactive_plot.children[1].continuous_update = False\n",
    "interactive_plot"
   ]
  },
  {
   "cell_type": "code",
   "execution_count": null,
   "metadata": {},
   "outputs": [],
   "source": [
    "# button "
   ]
  },
  {
   "cell_type": "markdown",
   "metadata": {},
   "source": [
    "### Analysis code\n",
    "\n",
    "To make a Gaussian fit that takes into account the background just use a function `perform_Gaussian_fit` from `fittingFunctions` package with specifying `left_selection` and `right_selection` arrays. _In case you are interested in how the fit was performed you have a look on the function `perform_Gaussian_fit` [fittingFunctions.py](../fittingFunctions.py)._\n",
    "\n",
    "\n",
    "**You can just copy the following cell and use it in your Jupyter Notebooks with solutions for laboratories.**"
   ]
  },
  {
   "cell_type": "code",
   "execution_count": null,
   "metadata": {},
   "outputs": [],
   "source": [
    "mu_guess = 3300.4 # guess of a position of a peak centroid \n",
    "n = 50 #number of points on each side to include in fit\n",
    "\n",
    "#Let's select channels on both sides of our fit to which we want to fit our line: \n",
    "left_selection = [3285, 3290]\n",
    "right_selection = [3310, 3312]\n",
    "\n",
    "gauss = fittingFunctions.perform_Gaussian_fit(data.x, data.y, mu_guess, n, left_selection, right_selection)"
   ]
  },
  {
   "cell_type": "markdown",
   "metadata": {},
   "source": [
    "## Fit a line - Energy calibration <a name=\"line\"></a>\n",
    "\n",
    "In spectroscopy experiments it is often essential to calibrate the detector response with respect to a known energies emitted from a so called calibration source. The relationship between the detector response and the energy is mostly assumed linear. The code below exemplifies how to estimate the linear calibration for 'random data'."
   ]
  },
  {
   "cell_type": "code",
   "execution_count": null,
   "metadata": {},
   "outputs": [],
   "source": [
    "# x and y are some 'random data'\n",
    "x = np.asarray([1,3,5,7])\n",
    "y = np.asarray([1.3, 2.1, 2.9, 4.2])\n",
    "\n",
    "#If you are more or less uncertain about your y-values this can be used in the fit by including the following line.\n",
    "sigmay = np.asarray([0.5, 0.3, 0.1, 0.2])\n",
    "\n",
    "# Define the linear function which you want to fit.\n",
    "def LineFunc(x, k, m):\n",
    "    return k*x+m\n",
    "\n",
    "# As for the Gaussian fit the function curve_fit needs a guess for the parameters to be estimated.\n",
    "guess = [2, 1]\n",
    "\n",
    "# Perform the fit\n",
    "estimates, covar_matrix = curve_fit(LineFunc,\n",
    "                                    x,\n",
    "                                    y,\n",
    "                                    p0 = guess,\n",
    "                                    sigma = sigmay)\n",
    "\n",
    "print(\"Estimates of (k m) = (\", estimates[0], estimates[1], \")\\n\")\n",
    "\n",
    "# plot the result\n",
    "plt.figure()\n",
    "plt.plot(x,y, linestyle=\"\", marker=\"*\", label='data points')\n",
    "plt.plot(x, LineFunc(x, estimates[0], estimates[1]), label='linear fit')\n",
    "plt.legend(loc='upper left')\n",
    "plt.show()"
   ]
  },
  {
   "cell_type": "markdown",
   "metadata": {},
   "source": [
    "## Statistical analysis - Error propagation<a name=\"stat\"></a>\n",
    "\n",
    "Background theory and instructions on how to perform statistical analysis on\n",
    "experimental data, with error propagation, can be found in the document\n",
    "http://www.fysik.lu.se/fileadmin/fysikportalen/UDIF/Bilder/FYSA31_KF_error.pdf, but of course also easily through a google search."
   ]
  }
 ],
 "metadata": {
  "hide_input": false,
  "kernelspec": {
   "display_name": "Python 3",
   "language": "python",
   "name": "python3"
  },
  "language_info": {
   "codemirror_mode": {
    "name": "ipython",
    "version": 3
   },
   "file_extension": ".py",
   "mimetype": "text/x-python",
   "name": "python",
   "nbconvert_exporter": "python",
   "pygments_lexer": "ipython3",
   "version": "3.7.4"
  },
  "latex_envs": {
   "LaTeX_envs_menu_present": true,
   "autoclose": false,
   "autocomplete": true,
   "bibliofile": "biblio.bib",
   "cite_by": "apalike",
   "current_citInitial": 1,
   "eqLabelWithNumbers": true,
   "eqNumInitial": 1,
   "hotkeys": {
    "equation": "Ctrl-E",
    "itemize": "Ctrl-I"
   },
   "labels_anchors": false,
   "latex_user_defs": false,
   "report_style_numbering": false,
   "user_envs_cfg": false
  },
  "toc": {
   "base_numbering": 1,
   "nav_menu": {},
   "number_sections": true,
   "sideBar": true,
   "skip_h1_title": false,
   "title_cell": "Table of Contents",
   "title_sidebar": "Contents",
   "toc_cell": false,
   "toc_position": {},
   "toc_section_display": true,
   "toc_window_display": false
  }
 },
 "nbformat": 4,
 "nbformat_minor": 2
}
